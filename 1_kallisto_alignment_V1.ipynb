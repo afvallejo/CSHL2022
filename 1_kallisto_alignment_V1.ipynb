{
  "nbformat": 4,
  "nbformat_minor": 0,
  "metadata": {
    "kernelspec": {
      "display_name": "Python 3",
      "language": "python",
      "name": "python3"
    },
    "language_info": {
      "codemirror_mode": {
        "name": "ipython",
        "version": 3
      },
      "file_extension": ".py",
      "mimetype": "text/x-python",
      "name": "python",
      "nbconvert_exporter": "python",
      "pygments_lexer": "ipython3",
      "version": "3.7.6"
    },
    "toc": {
      "base_numbering": 1,
      "nav_menu": {},
      "number_sections": true,
      "sideBar": true,
      "skip_h1_title": false,
      "title_cell": "Table of Contents",
      "title_sidebar": "Contents",
      "toc_cell": false,
      "toc_position": {},
      "toc_section_display": true,
      "toc_window_display": true
    },
    "colab": {
      "name": "1_kallisto_alignment_V1.ipynb",
      "provenance": [],
      "collapsed_sections": [],
      "machine_shape": "hm",
      "include_colab_link": true
    }
  },
  "cells": [
    {
      "cell_type": "markdown",
      "metadata": {
        "id": "view-in-github",
        "colab_type": "text"
      },
      "source": [
        "<a href=\"https://colab.research.google.com/github/afvallejo/CSHL2022/blob/main/1_kallisto_alignment_V1.ipynb\" target=\"_parent\"><img src=\"https://colab.research.google.com/assets/colab-badge.svg\" alt=\"Open In Colab\"/></a>"
      ]
    },
    {
      "cell_type": "markdown",
      "metadata": {
        "id": "qOhKMp8yspH-"
      },
      "source": [
        "# Installing packages"
      ]
    },
    {
      "cell_type": "code",
      "metadata": {
        "id": "mjc5NB2L_x4x"
      },
      "source": [
        "!wget https://github.com/pachterlab/kallisto/releases/download/v0.46.1/kallisto_linux-v0.46.1.tar.gz"
      ],
      "execution_count": null,
      "outputs": []
    },
    {
      "cell_type": "code",
      "metadata": {
        "id": "lqQAhuEE_7aF"
      },
      "source": [
        "!tar -xf kallisto_linux-v0.46.1.tar.gz"
      ],
      "execution_count": null,
      "outputs": []
    },
    {
      "cell_type": "code",
      "metadata": {
        "id": "G_xGn-XkCak3"
      },
      "source": [
        "!wget https://www.bioinformatics.babraham.ac.uk/projects/fastqc/fastqc_v0.11.9.zip"
      ],
      "execution_count": null,
      "outputs": []
    },
    {
      "cell_type": "code",
      "metadata": {
        "id": "CxDPItjMFxo-"
      },
      "source": [
        "!unzip fastqc_v0.11.9.zip"
      ],
      "execution_count": null,
      "outputs": []
    },
    {
      "cell_type": "code",
      "metadata": {
        "id": "GvOx9tosF8XH"
      },
      "source": [
        "!chmod +x FastQC/fastqc"
      ],
      "execution_count": null,
      "outputs": []
    },
    {
      "cell_type": "code",
      "metadata": {
        "id": "KA716X89GdTo"
      },
      "source": [
        "!pip install multiqc"
      ],
      "execution_count": null,
      "outputs": []
    },
    {
      "cell_type": "markdown",
      "metadata": {
        "id": "IRaHxgnlJAvP"
      },
      "source": [
        "# Run Kallisto"
      ]
    },
    {
      "cell_type": "markdown",
      "metadata": {
        "id": "mDavyQa-JAvP"
      },
      "source": [
        "## Usage: kallisto quant [arguments] FASTQ-files"
      ]
    },
    {
      "cell_type": "markdown",
      "metadata": {
        "id": "zmwkzfqJJAvP"
      },
      "source": [
        "\n",
        "Required arguments:\n",
        "-i, --index=STRING            Filename for the kallisto index to be used for\n",
        "                              quantification\n",
        "-o, --output-dir=STRING       Directory to write output to\n",
        "\n",
        "Optional arguments:\n",
        "    **--bias                    Perform sequence based bias correction**\n",
        "**-b, --bootstrap-samples=INT   Number of bootstrap samples (default: 0)**\n",
        "    --seed=INT                Seed for the bootstrap sampling (default: 42)\n",
        "    --plaintext               Output plaintext instead of HDF5\n",
        "    --fusion                  Search for fusions for Pizzly\n",
        "    --single                  Quantify single-end reads\n",
        "    --single-overhang         Include reads where unobserved rest of fragment is\n",
        "                              predicted to lie outside a transcript\n",
        "    **--fr-stranded             Strand specific reads, first read forward\n",
        "    --rf-stranded             Strand specific reads, first read reverse**\n",
        "-l, --fragment-length=DOUBLE  Estimated average fragment length\n",
        "-s, --sd=DOUBLE               Estimated standard deviation of fragment length\n",
        "                              (default: -l, -s values are estimated from paired\n",
        "                               end data, but are required when using --single)\n",
        "**-t, --threads=INT             Number of threads to use (default: 1)**\n",
        "    --pseudobam               Save pseudoalignments to transcriptome to BAM file\n",
        "    --genomebam               Project pseudoalignments to genome sorted BAM file\n",
        "-g, --gtf                     GTF file for transcriptome information\n",
        "                              (required for --genomebam)\n",
        "-c, --chromosomes             Tab separated file with chromosome names and lengths\n",
        "                              (optional for --genomebam, but recommended)"
      ]
    },
    {
      "cell_type": "code",
      "metadata": {
        "id": "ACimXc8u-0r5"
      },
      "source": [
        "!kallisto/kallisto"
      ],
      "execution_count": null,
      "outputs": []
    },
    {
      "cell_type": "markdown",
      "metadata": {
        "id": "f_YmFCQU-0sA"
      },
      "source": [
        "# Get the cDNA file"
      ]
    },
    {
      "cell_type": "code",
      "metadata": {
        "id": "pDtQnjpi-0sB"
      },
      "source": [
        "\n",
        "!wget ftp://ftp.ensembl.org/pub/release-95/fasta/homo_sapiens/cdna/Homo_sapiens.GRCh38.cdna.all.fa.gz\n"
      ],
      "execution_count": null,
      "outputs": []
    },
    {
      "cell_type": "markdown",
      "metadata": {
        "id": "KdCDUMO8-0sD"
      },
      "source": [
        "# Create index"
      ]
    },
    {
      "cell_type": "code",
      "metadata": {
        "id": "jrcJ0LM7-0sE"
      },
      "source": [
        "!kallisto/kallisto index --make-unique -i kallisto_index.idx Homo_sapiens.GRCh38.cdna.all.fa.gz"
      ],
      "execution_count": null,
      "outputs": []
    },
    {
      "cell_type": "markdown",
      "metadata": {
        "id": "N44vXY4NmurL"
      },
      "source": [
        "## Downloading the data \n"
      ]
    },
    {
      "cell_type": "markdown",
      "metadata": {
        "id": "7w_YUWJ5m-Sl"
      },
      "source": [
        "**Mycobacterium tuberculosis Invasion of the Human Lung**: First Contact.\n",
        "Maertzdorf J1, Tönnies M2, Lozza L1, Schommer-Leitner S1, Mollenkopf H1, Bauer TT2, Kaufmann SHE1."
      ]
    },
    {
      "cell_type": "markdown",
      "metadata": {
        "id": "UhNQ9Oegngwx"
      },
      "source": [
        "[Rawdata](https://www.ebi.ac.uk/ena/data/view/PRJNA447933)"
      ]
    },
    {
      "cell_type": "code",
      "metadata": {
        "id": "QT8MSbA8m0Vz"
      },
      "source": [
        "!wget ftp://ftp.sra.ebi.ac.uk/vol1/fastq/SRR691/000/SRR6914400/SRR6914400_1.fastq.gz\n",
        "!wget ftp://ftp.sra.ebi.ac.uk/vol1/fastq/SRR691/000/SRR6914400/SRR6914400_2.fastq.gz"
      ],
      "execution_count": null,
      "outputs": []
    },
    {
      "cell_type": "code",
      "metadata": {
        "id": "SV1VpsqHLMRD"
      },
      "source": [
        "ls"
      ],
      "execution_count": null,
      "outputs": []
    },
    {
      "cell_type": "markdown",
      "metadata": {
        "id": "B6srt8Sw-0sG"
      },
      "source": [
        "# QC"
      ]
    },
    {
      "cell_type": "code",
      "metadata": {
        "id": "spPSGGNHtr53"
      },
      "source": [
        "!FastQC/fastqc SRR6914400_2.fastq.gz"
      ],
      "execution_count": null,
      "outputs": []
    },
    {
      "cell_type": "markdown",
      "metadata": {
        "id": "RRP-cHId-0sS"
      },
      "source": [
        "# Run Kallisto"
      ]
    },
    {
      "cell_type": "markdown",
      "metadata": {
        "id": "LZ_5T85-Ck9o"
      },
      "source": [
        "## un-stranded"
      ]
    },
    {
      "cell_type": "code",
      "metadata": {
        "scrolled": true,
        "id": "aDhxLRr_-0sb"
      },
      "source": [
        "!kallisto/kallisto quant -i kallisto_index.idx -o Kallisto_results -t 2 SRR6914400_1.fastq.gz SRR6914400_2.fastq.gz"
      ],
      "execution_count": null,
      "outputs": []
    },
    {
      "cell_type": "markdown",
      "metadata": {
        "id": "sVqtPsAtCqeU"
      },
      "source": [
        "## stranded fr"
      ]
    },
    {
      "cell_type": "code",
      "metadata": {
        "id": "-2bguc2x-0sf"
      },
      "source": [
        "!kallisto/kallisto quant -i kallisto_index.idx --fr-stranded -o Kallisto_results -t 2 SRR6914400_1.fastq.gz SRR6914400_2.fastq.gz\n"
      ],
      "execution_count": null,
      "outputs": []
    },
    {
      "cell_type": "markdown",
      "metadata": {
        "id": "yTLU7HVTCxdD"
      },
      "source": [
        "## stranded rf"
      ]
    },
    {
      "cell_type": "code",
      "metadata": {
        "scrolled": true,
        "id": "A70jOEPs-0sj"
      },
      "source": [
        "!kallisto/kallisto quant -i kallisto_index.idx --rf-stranded -o Kallisto_results -t 2 SRR6914400_1.fastq.gz SRR6914400_2.fastq.gz"
      ],
      "execution_count": null,
      "outputs": []
    },
    {
      "cell_type": "markdown",
      "metadata": {
        "id": "VezN1HGEocNS"
      },
      "source": [
        "## Alignment"
      ]
    },
    {
      "cell_type": "code",
      "metadata": {
        "id": "WRXdHcgQC3SI"
      },
      "source": [
        "!kallisto/kallisto quant -i kallisto_index.idx --bias -b 50 -o Kallisto_results -t 2 SRR6914400_1.fastq.gz SRR6914400_2.fastq.gz >>log 2>&1\n"
      ],
      "execution_count": null,
      "outputs": []
    },
    {
      "cell_type": "markdown",
      "metadata": {
        "id": "V0OOD3uT-0so"
      },
      "source": [
        "# read the output"
      ]
    },
    {
      "cell_type": "code",
      "metadata": {
        "id": "bm9Taczp-0so"
      },
      "source": [
        "import pandas as pd \n",
        "data = pd.read_csv(\"/content/Kallisto_results/abundance.tsv\",sep='\\t') \n",
        "data.sort_values(by=['tpm'],ascending=False)"
      ],
      "execution_count": null,
      "outputs": []
    },
    {
      "cell_type": "markdown",
      "metadata": {
        "id": "NsRUk8uQyH2V"
      },
      "source": [
        "# integrated QC"
      ]
    },
    {
      "cell_type": "code",
      "metadata": {
        "id": "ZH3Kg1_LsZVo"
      },
      "source": [
        "!multiqc ."
      ],
      "execution_count": null,
      "outputs": []
    },
    {
      "cell_type": "markdown",
      "metadata": {
        "id": "a9QMsrL_JAvQ"
      },
      "source": [
        "# About bias correction "
      ]
    },
    {
      "cell_type": "code",
      "execution_count": null,
      "metadata": {
        "id": "Zw7X4yaBJAvQ"
      },
      "outputs": [],
      "source": [
        "from IPython.lib.display import YouTubeVideo\n",
        "YouTubeVideo('9xskajkNJwg')"
      ]
    },
    {
      "cell_type": "code",
      "metadata": {
        "id": "f7nzG93lrnRK"
      },
      "source": [
        ""
      ],
      "execution_count": null,
      "outputs": []
    },
    {
      "cell_type": "code",
      "metadata": {
        "id": "xJXhkBiBrhES"
      },
      "source": [
        ""
      ],
      "execution_count": null,
      "outputs": []
    }
  ]
}