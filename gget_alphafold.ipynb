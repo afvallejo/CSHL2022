{
  "cells": [
    {
      "cell_type": "markdown",
      "metadata": {
        "id": "view-in-github",
        "colab_type": "text"
      },
      "source": [
        "<a href=\"https://colab.research.google.com/github/afvallejo/CSHL2022/blob/main/gget_alphafold.ipynb\" target=\"_parent\"><img src=\"https://colab.research.google.com/assets/colab-badge.svg\" alt=\"Open In Colab\"/></a>"
      ]
    },
    {
      "cell_type": "markdown",
      "source": [
        "# [gget alphafold](https://github.com/pachterlab/gget) demonstration\n",
        "Predict the 3D structure of a protein from its amino acid sequence using a simplified version of [DeepMind](https://www.deepmind.com/)’s [AlphaFold2](https://github.com/deepmind/alphafold) originally released and benchmarked for [AlphaFold Colab](https://colab.research.google.com/github/deepmind/alphafold/blob/main/notebooks/AlphaFold.ipynb). To increase speed, set \"Runtime\" -> \"Change runtime type\" -> \"Hardware accelerator\" -> \"GPU\". Also see: [ColabFold](https://colab.research.google.com/github/sokrypton/ColabFold/blob/main/AlphaFold2.ipynb).\n",
        "\n",
        "Written by Laura Luebbert.\n",
        "___"
      ],
      "metadata": {
        "id": "UEtruYiNvaku"
      }
    },
    {
      "cell_type": "markdown",
      "source": [
        "Install and import gget:"
      ],
      "metadata": {
        "id": "hn85VENdvV-X"
      }
    },
    {
      "cell_type": "code",
      "source": [
        "!pip install -q -U gget \n",
        "import gget"
      ],
      "metadata": {
        "id": "b1n5Mhe-vPar",
        "colab": {
          "base_uri": "https://localhost:8080/"
        },
        "outputId": "feb5c885-bde2-4ac1-be88-f41424de3dec"
      },
      "execution_count": 1,
      "outputs": [
        {
          "output_type": "stream",
          "name": "stdout",
          "text": [
            "\u001b[K     |████████████████████████████████| 2.2 MB 7.3 MB/s \n",
            "\u001b[K     |████████████████████████████████| 128 kB 66.2 MB/s \n",
            "\u001b[K     |████████████████████████████████| 25.2 MB 1.4 MB/s \n",
            "\u001b[K     |████████████████████████████████| 1.6 MB 45.4 MB/s \n",
            "\u001b[?25h"
          ]
        }
      ]
    },
    {
      "cell_type": "code",
      "source": [
        "# For pretty plots\n",
        "%config InlineBackend.figure_format='retina'"
      ],
      "metadata": {
        "id": "NjEUIt1GQBNc"
      },
      "execution_count": 2,
      "outputs": []
    },
    {
      "cell_type": "markdown",
      "source": [
        "Use Miniconda to install OpenMM (to install openmm v7.5.1 on your local machine, run `conda install -c conda-forge openmm=7.5.1` from the command-line):"
      ],
      "metadata": {
        "id": "KYjgXu2jvXvh"
      }
    },
    {
      "cell_type": "code",
      "source": [
        "import sys\n",
        "%shell rm -rf /opt/conda\n",
        "%shell wget -q -P /tmp \\\n",
        "  https://repo.anaconda.com/miniconda/Miniconda3-latest-Linux-x86_64.sh \\\n",
        "    && bash /tmp/Miniconda3-latest-Linux-x86_64.sh -b -p /opt/conda \\\n",
        "    && rm /tmp/Miniconda3-latest-Linux-x86_64.sh\n",
        "PATH=%env PATH\n",
        "%env PATH=/opt/conda/bin:{PATH}\n",
        "%shell conda install -qy -c conda-forge python=3.7 openmm=7.5.1 \n",
        "# Add to path\n",
        "sys.path.append('/opt/conda/lib/python3.7/site-packages')"
      ],
      "metadata": {
        "id": "hCFd6KjsuUmz",
        "outputId": "0c2cd393-61af-4973-fa86-f606b74f69ef",
        "colab": {
          "base_uri": "https://localhost:8080/"
        }
      },
      "execution_count": 3,
      "outputs": [
        {
          "output_type": "stream",
          "name": "stdout",
          "text": [
            "PREFIX=/opt/conda\n",
            "Unpacking payload ...\n",
            "Collecting package metadata (current_repodata.json): - \b\b\\ \b\b| \b\bdone\n",
            "Solving environment: - \b\b\\ \b\bdone\n",
            "\n",
            "## Package Plan ##\n",
            "\n",
            "  environment location: /opt/conda\n",
            "\n",
            "  added / updated specs:\n",
            "    - _libgcc_mutex==0.1=main\n",
            "    - _openmp_mutex==4.5=1_gnu\n",
            "    - brotlipy==0.7.0=py39h27cfd23_1003\n",
            "    - ca-certificates==2022.3.29=h06a4308_1\n",
            "    - certifi==2021.10.8=py39h06a4308_2\n",
            "    - cffi==1.15.0=py39hd667e15_1\n",
            "    - charset-normalizer==2.0.4=pyhd3eb1b0_0\n",
            "    - colorama==0.4.4=pyhd3eb1b0_0\n",
            "    - conda-content-trust==0.1.1=pyhd3eb1b0_0\n",
            "    - conda-package-handling==1.8.1=py39h7f8727e_0\n",
            "    - conda==4.12.0=py39h06a4308_0\n",
            "    - cryptography==36.0.0=py39h9ce1e76_0\n",
            "    - idna==3.3=pyhd3eb1b0_0\n",
            "    - ld_impl_linux-64==2.35.1=h7274673_9\n",
            "    - libffi==3.3=he6710b0_2\n",
            "    - libgcc-ng==9.3.0=h5101ec6_17\n",
            "    - libgomp==9.3.0=h5101ec6_17\n",
            "    - libstdcxx-ng==9.3.0=hd4cf53a_17\n",
            "    - ncurses==6.3=h7f8727e_2\n",
            "    - openssl==1.1.1n=h7f8727e_0\n",
            "    - pip==21.2.4=py39h06a4308_0\n",
            "    - pycosat==0.6.3=py39h27cfd23_0\n",
            "    - pycparser==2.21=pyhd3eb1b0_0\n",
            "    - pyopenssl==22.0.0=pyhd3eb1b0_0\n",
            "    - pysocks==1.7.1=py39h06a4308_0\n",
            "    - python==3.9.12=h12debd9_0\n",
            "    - readline==8.1.2=h7f8727e_1\n",
            "    - requests==2.27.1=pyhd3eb1b0_0\n",
            "    - ruamel_yaml==0.15.100=py39h27cfd23_0\n",
            "    - setuptools==61.2.0=py39h06a4308_0\n",
            "    - six==1.16.0=pyhd3eb1b0_1\n",
            "    - sqlite==3.38.2=hc218d9a_0\n",
            "    - tk==8.6.11=h1ccaba5_0\n",
            "    - tqdm==4.63.0=pyhd3eb1b0_0\n",
            "    - tzdata==2022a=hda174b7_0\n",
            "    - urllib3==1.26.8=pyhd3eb1b0_0\n",
            "    - wheel==0.37.1=pyhd3eb1b0_0\n",
            "    - xz==5.2.5=h7b6447c_0\n",
            "    - yaml==0.2.5=h7b6447c_0\n",
            "    - zlib==1.2.12=h7f8727e_1\n",
            "\n",
            "\n",
            "The following NEW packages will be INSTALLED:\n",
            "\n",
            "  _libgcc_mutex      pkgs/main/linux-64::_libgcc_mutex-0.1-main\n",
            "  _openmp_mutex      pkgs/main/linux-64::_openmp_mutex-4.5-1_gnu\n",
            "  brotlipy           pkgs/main/linux-64::brotlipy-0.7.0-py39h27cfd23_1003\n",
            "  ca-certificates    pkgs/main/linux-64::ca-certificates-2022.3.29-h06a4308_1\n",
            "  certifi            pkgs/main/linux-64::certifi-2021.10.8-py39h06a4308_2\n",
            "  cffi               pkgs/main/linux-64::cffi-1.15.0-py39hd667e15_1\n",
            "  charset-normalizer pkgs/main/noarch::charset-normalizer-2.0.4-pyhd3eb1b0_0\n",
            "  colorama           pkgs/main/noarch::colorama-0.4.4-pyhd3eb1b0_0\n",
            "  conda              pkgs/main/linux-64::conda-4.12.0-py39h06a4308_0\n",
            "  conda-content-tru~ pkgs/main/noarch::conda-content-trust-0.1.1-pyhd3eb1b0_0\n",
            "  conda-package-han~ pkgs/main/linux-64::conda-package-handling-1.8.1-py39h7f8727e_0\n",
            "  cryptography       pkgs/main/linux-64::cryptography-36.0.0-py39h9ce1e76_0\n",
            "  idna               pkgs/main/noarch::idna-3.3-pyhd3eb1b0_0\n",
            "  ld_impl_linux-64   pkgs/main/linux-64::ld_impl_linux-64-2.35.1-h7274673_9\n",
            "  libffi             pkgs/main/linux-64::libffi-3.3-he6710b0_2\n",
            "  libgcc-ng          pkgs/main/linux-64::libgcc-ng-9.3.0-h5101ec6_17\n",
            "  libgomp            pkgs/main/linux-64::libgomp-9.3.0-h5101ec6_17\n",
            "  libstdcxx-ng       pkgs/main/linux-64::libstdcxx-ng-9.3.0-hd4cf53a_17\n",
            "  ncurses            pkgs/main/linux-64::ncurses-6.3-h7f8727e_2\n",
            "  openssl            pkgs/main/linux-64::openssl-1.1.1n-h7f8727e_0\n",
            "  pip                pkgs/main/linux-64::pip-21.2.4-py39h06a4308_0\n",
            "  pycosat            pkgs/main/linux-64::pycosat-0.6.3-py39h27cfd23_0\n",
            "  pycparser          pkgs/main/noarch::pycparser-2.21-pyhd3eb1b0_0\n",
            "  pyopenssl          pkgs/main/noarch::pyopenssl-22.0.0-pyhd3eb1b0_0\n",
            "  pysocks            pkgs/main/linux-64::pysocks-1.7.1-py39h06a4308_0\n",
            "  python             pkgs/main/linux-64::python-3.9.12-h12debd9_0\n",
            "  readline           pkgs/main/linux-64::readline-8.1.2-h7f8727e_1\n",
            "  requests           pkgs/main/noarch::requests-2.27.1-pyhd3eb1b0_0\n",
            "  ruamel_yaml        pkgs/main/linux-64::ruamel_yaml-0.15.100-py39h27cfd23_0\n",
            "  setuptools         pkgs/main/linux-64::setuptools-61.2.0-py39h06a4308_0\n",
            "  six                pkgs/main/noarch::six-1.16.0-pyhd3eb1b0_1\n",
            "  sqlite             pkgs/main/linux-64::sqlite-3.38.2-hc218d9a_0\n",
            "  tk                 pkgs/main/linux-64::tk-8.6.11-h1ccaba5_0\n",
            "  tqdm               pkgs/main/noarch::tqdm-4.63.0-pyhd3eb1b0_0\n",
            "  tzdata             pkgs/main/noarch::tzdata-2022a-hda174b7_0\n",
            "  urllib3            pkgs/main/noarch::urllib3-1.26.8-pyhd3eb1b0_0\n",
            "  wheel              pkgs/main/noarch::wheel-0.37.1-pyhd3eb1b0_0\n",
            "  xz                 pkgs/main/linux-64::xz-5.2.5-h7b6447c_0\n",
            "  yaml               pkgs/main/linux-64::yaml-0.2.5-h7b6447c_0\n",
            "  zlib               pkgs/main/linux-64::zlib-1.2.12-h7f8727e_1\n",
            "\n",
            "\n",
            "Preparing transaction: / \b\b- \b\b\\ \b\bdone\n",
            "Executing transaction: / \b\b- \b\b\\ \b\b| \b\b/ \b\b- \b\b\\ \b\b| \b\b/ \b\b- \b\b\\ \b\b| \b\bdone\n",
            "installation finished.\n",
            "WARNING:\n",
            "    You currently have a PYTHONPATH environment variable set. This may cause\n",
            "    unexpected behavior when running the Python interpreter in Miniconda3.\n",
            "    For best results, please verify that your PYTHONPATH only points to\n",
            "    directories of packages that are compatible with the Python interpreter\n",
            "    in Miniconda3: /opt/conda\n",
            "env: PATH=/opt/conda/bin:/opt/bin:/usr/local/nvidia/bin:/usr/local/cuda/bin:/usr/local/sbin:/usr/local/bin:/usr/sbin:/usr/bin:/sbin:/bin:/tools/node/bin:/tools/google-cloud-sdk/bin\n",
            "Collecting package metadata (current_repodata.json): ...working... done\n",
            "Solving environment: ...working... done\n",
            "\n",
            "## Package Plan ##\n",
            "\n",
            "  environment location: /opt/conda\n",
            "\n",
            "  added / updated specs:\n",
            "    - openmm=7.5.1\n",
            "    - python=3.7\n",
            "\n",
            "\n",
            "The following packages will be downloaded:\n",
            "\n",
            "    package                    |            build\n",
            "    ---------------------------|-----------------\n",
            "    brotlipy-0.7.0             |py37h540881e_1004         342 KB  conda-forge\n",
            "    ca-certificates-2022.6.15  |       ha878542_0         149 KB  conda-forge\n",
            "    certifi-2022.6.15          |   py37h89c1867_0         155 KB  conda-forge\n",
            "    cffi-1.15.1                |   py37h74dc2b5_0         227 KB\n",
            "    conda-4.14.0               |   py37h89c1867_0        1010 KB  conda-forge\n",
            "    conda-package-handling-1.8.1|   py37h540881e_1         1.0 MB  conda-forge\n",
            "    cryptography-35.0.0        |   py37hf1a17b8_2         1.6 MB  conda-forge\n",
            "    cudatoolkit-11.1.1         |       h6406543_8        1.20 GB  conda-forge\n",
            "    fftw-3.3.10                |nompi_h77c792f_102         6.4 MB  conda-forge\n",
            "    libblas-3.9.0              |15_linux64_openblas          12 KB  conda-forge\n",
            "    libcblas-3.9.0             |15_linux64_openblas          12 KB  conda-forge\n",
            "    libgcc-ng-11.2.0           |       h1234567_1         5.3 MB\n",
            "    libgfortran-ng-12.1.0      |      h69a702a_16          23 KB  conda-forge\n",
            "    libgfortran5-12.1.0        |      hdcd56e2_16         1.8 MB  conda-forge\n",
            "    libgomp-11.2.0             |       h1234567_1         474 KB\n",
            "    liblapack-3.9.0            |15_linux64_openblas          12 KB  conda-forge\n",
            "    libopenblas-0.3.20         |pthreads_h78a6416_0        10.1 MB  conda-forge\n",
            "    numpy-1.20.3               |   py37h3e96413_2         5.7 MB  conda-forge\n",
            "    ocl-icd-2.3.1              |       h7f98852_0         119 KB  conda-forge\n",
            "    ocl-icd-system-1.0.0       |                1           4 KB  conda-forge\n",
            "    openmm-7.5.1               |   py37h729b507_1        10.7 MB  conda-forge\n",
            "    openssl-1.1.1q             |       h7f8727e_0         2.5 MB\n",
            "    pip-22.2.2                 |     pyhd8ed1ab_0         1.5 MB  conda-forge\n",
            "    pycosat-0.6.3              |py37h540881e_1010         107 KB  conda-forge\n",
            "    pysocks-1.7.1              |   py37h89c1867_5          28 KB  conda-forge\n",
            "    python-3.7.13              |       h12debd9_0        46.2 MB\n",
            "    python_abi-3.7             |          2_cp37m           4 KB  conda-forge\n",
            "    ruamel_yaml-0.15.80        |py37h5e8e339_1006         270 KB  conda-forge\n",
            "    setuptools-65.2.0          |   py37h89c1867_0         1.4 MB  conda-forge\n",
            "    toolz-0.12.0               |     pyhd8ed1ab_0          48 KB  conda-forge\n",
            "    ------------------------------------------------------------\n",
            "                                           Total:        1.30 GB\n",
            "\n",
            "The following NEW packages will be INSTALLED:\n",
            "\n",
            "  cudatoolkit        conda-forge/linux-64::cudatoolkit-11.1.1-h6406543_8\n",
            "  fftw               conda-forge/linux-64::fftw-3.3.10-nompi_h77c792f_102\n",
            "  libblas            conda-forge/linux-64::libblas-3.9.0-15_linux64_openblas\n",
            "  libcblas           conda-forge/linux-64::libcblas-3.9.0-15_linux64_openblas\n",
            "  libgfortran-ng     conda-forge/linux-64::libgfortran-ng-12.1.0-h69a702a_16\n",
            "  libgfortran5       conda-forge/linux-64::libgfortran5-12.1.0-hdcd56e2_16\n",
            "  liblapack          conda-forge/linux-64::liblapack-3.9.0-15_linux64_openblas\n",
            "  libopenblas        conda-forge/linux-64::libopenblas-0.3.20-pthreads_h78a6416_0\n",
            "  numpy              conda-forge/linux-64::numpy-1.20.3-py37h3e96413_2\n",
            "  ocl-icd            conda-forge/linux-64::ocl-icd-2.3.1-h7f98852_0\n",
            "  ocl-icd-system     conda-forge/linux-64::ocl-icd-system-1.0.0-1\n",
            "  openmm             conda-forge/linux-64::openmm-7.5.1-py37h729b507_1\n",
            "  python_abi         conda-forge/linux-64::python_abi-3.7-2_cp37m\n",
            "  toolz              conda-forge/noarch::toolz-0.12.0-pyhd8ed1ab_0\n",
            "\n",
            "The following packages will be UPDATED:\n",
            "\n",
            "  brotlipy           pkgs/main::brotlipy-0.7.0-py39h27cfd2~ --> conda-forge::brotlipy-0.7.0-py37h540881e_1004\n",
            "  ca-certificates    pkgs/main::ca-certificates-2022.3.29-~ --> conda-forge::ca-certificates-2022.6.15-ha878542_0\n",
            "  certifi            pkgs/main::certifi-2021.10.8-py39h06a~ --> conda-forge::certifi-2022.6.15-py37h89c1867_0\n",
            "  cffi                                1.15.0-py39hd667e15_1 --> 1.15.1-py37h74dc2b5_0\n",
            "  conda              pkgs/main::conda-4.12.0-py39h06a4308_0 --> conda-forge::conda-4.14.0-py37h89c1867_0\n",
            "  conda-package-han~ pkgs/main::conda-package-handling-1.8~ --> conda-forge::conda-package-handling-1.8.1-py37h540881e_1\n",
            "  libgcc-ng                               9.3.0-h5101ec6_17 --> 11.2.0-h1234567_1\n",
            "  libgomp                                 9.3.0-h5101ec6_17 --> 11.2.0-h1234567_1\n",
            "  openssl                                 1.1.1n-h7f8727e_0 --> 1.1.1q-h7f8727e_0\n",
            "  pip                pkgs/main/linux-64::pip-21.2.4-py39h0~ --> conda-forge/noarch::pip-22.2.2-pyhd8ed1ab_0\n",
            "  pycosat            pkgs/main::pycosat-0.6.3-py39h27cfd23~ --> conda-forge::pycosat-0.6.3-py37h540881e_1010\n",
            "  pysocks            pkgs/main::pysocks-1.7.1-py39h06a4308~ --> conda-forge::pysocks-1.7.1-py37h89c1867_5\n",
            "  setuptools         pkgs/main::setuptools-61.2.0-py39h06a~ --> conda-forge::setuptools-65.2.0-py37h89c1867_0\n",
            "\n",
            "The following packages will be SUPERSEDED by a higher-priority channel:\n",
            "\n",
            "  cryptography       pkgs/main::cryptography-36.0.0-py39h9~ --> conda-forge::cryptography-35.0.0-py37hf1a17b8_2\n",
            "  ruamel_yaml        pkgs/main::ruamel_yaml-0.15.100-py39h~ --> conda-forge::ruamel_yaml-0.15.80-py37h5e8e339_1006\n",
            "\n",
            "The following packages will be DOWNGRADED:\n",
            "\n",
            "  python                                  3.9.12-h12debd9_0 --> 3.7.13-h12debd9_0\n",
            "\n",
            "\n",
            "Preparing transaction: ...working... done\n",
            "Verifying transaction: ...working... done\n",
            "Executing transaction: ...working... By downloading and using the CUDA Toolkit conda packages, you accept the terms and conditions of the CUDA End User License Agreement (EULA): https://docs.nvidia.com/cuda/eula/index.html\n",
            "\n",
            "done\n"
          ]
        }
      ]
    },
    {
      "cell_type": "markdown",
      "source": [
        "Install third-part dependencies and download AlphaFold model parameters using `gget setup`:"
      ],
      "metadata": {
        "id": "a0FlonuWvl3e"
      }
    },
    {
      "cell_type": "code",
      "execution_count": 4,
      "metadata": {
        "id": "kIe23J7Crr12",
        "colab": {
          "base_uri": "https://localhost:8080/"
        },
        "outputId": "2c0f8a39-29e8-4234-986c-01b65d0bae68"
      },
      "outputs": [
        {
          "output_type": "stream",
          "name": "stderr",
          "text": [
            "#=#=#                                                                         \r\r                                                                           0.0%\r                                                                           0.5%\r                                                                           1.2%\r#                                                                          1.9%\r#                                                                          2.7%\r##                                                                         2.9%\r##                                                                         3.8%\r###                                                                        4.6%\r###                                                                        5.3%\r####                                                                       6.1%\r####                                                                       6.7%\r#####                                                                      7.6%\r######                                                                     8.4%\r######                                                                     9.1%\r#######                                                                    9.9%\r#######                                                                   10.6%\r########                                                                  11.5%\r########                                                                  12.2%\r#########                                                                 13.0%\r#########                                                                 13.8%\r##########                                                                14.3%\r##########                                                                15.1%\r##########                                                                15.1%\r###########                                                               16.0%\r###########                                                               16.4%\r############                                                              17.2%\r############                                                              18.0%\r#############                                                             18.4%\r#############                                                             18.6%\r#############                                                             19.4%\r##############                                                            19.9%\r##############                                                            20.7%\r###############                                                           21.5%\r###############                                                           21.7%\r###############                                                           22.0%\r################                                                          22.5%\r################                                                          22.7%\r################                                                          23.5%\r#################                                                         24.2%\r#################                                                         24.9%\r##################                                                        25.1%\r##################                                                        25.6%\r##################                                                        26.3%\r###################                                                       26.9%\r###################                                                       27.4%\r####################                                                      28.2%\r####################                                                      28.7%\r#####################                                                     29.2%\r#####################                                                     29.7%\r#####################                                                     30.5%\r######################                                                    31.0%\r######################                                                    31.1%\r######################                                                    31.5%\r######################                                                    31.8%\r#######################                                                   32.6%\r#######################                                                   33.3%\r########################                                                  34.1%\r#########################                                                 35.0%\r#########################                                                 35.8%\r##########################                                                36.4%\r##########################                                                37.2%\r###########################                                               38.0%\r###########################                                               38.5%\r############################                                              39.3%\r############################                                              39.9%\r#############################                                             40.7%\r#############################                                             41.6%\r##############################                                            42.3%\r###############################                                           43.1%\r###############################                                           44.0%\r################################                                          44.8%\r################################                                          45.3%\r#################################                                         46.1%\r#################################                                         46.9%\r##################################                                        47.6%\r##################################                                        48.4%\r###################################                                       48.9%\r###################################                                       49.7%\r####################################                                      50.5%\r####################################                                      51.2%\r#####################################                                     51.8%\r#####################################                                     52.4%\r######################################                                    53.0%\r######################################                                    53.9%\r#######################################                                   54.6%\r#######################################                                   55.1%\r########################################                                  55.8%\r########################################                                  56.2%\r########################################                                  56.9%\r#########################################                                 57.3%\r#########################################                                 57.8%\r#########################################                                 58.3%\r##########################################                                58.7%\r##########################################                                59.3%\r###########################################                               60.2%\r###########################################                               61.0%\r############################################                              61.8%\r#############################################                             62.6%\r#############################################                             63.2%\r##############################################                            63.9%\r##############################################                            64.7%\r###############################################                           65.6%\r###############################################                           66.3%\r################################################                          66.9%\r################################################                          67.7%\r#################################################                         68.5%\r#################################################                         69.4%\r##################################################                        70.1%\r##################################################                        70.8%\r###################################################                       71.3%\r###################################################                       71.6%\r###################################################                       71.9%\r####################################################                      72.6%\r####################################################                      73.0%\r####################################################                      73.6%\r#####################################################                     74.3%\r######################################################                    75.1%\r######################################################                    76.0%\r#######################################################                   76.9%\r#######################################################                   77.5%\r########################################################                  77.8%\r########################################################                  78.2%\r########################################################                  78.7%\r#########################################################                 79.2%\r#########################################################                 79.7%\r#########################################################                 80.1%\r##########################################################                80.7%\r##########################################################                81.4%\r###########################################################               82.2%\r###########################################################               82.8%\r############################################################              83.5%\r############################################################              84.1%\r############################################################              84.7%\r#############################################################             85.5%\r##############################################################            86.2%\r##############################################################            86.7%\r##############################################################            87.0%\r##############################################################            87.5%\r###############################################################           87.6%\r###############################################################           87.9%\r###############################################################           88.6%\r################################################################          89.4%\r################################################################          90.0%\r#################################################################         90.9%\r#################################################################         91.1%\r##################################################################        91.8%\r##################################################################        91.9%\r##################################################################        92.6%\r###################################################################       93.1%\r###################################################################       93.9%\r###################################################################       93.9%\r####################################################################      94.8%\r####################################################################      95.2%\r####################################################################      95.4%\r#####################################################################     96.1%\r#####################################################################     96.6%\r######################################################################    97.4%\r######################################################################    98.2%\r#######################################################################   98.8%\r#######################################################################   99.6%\r######################################################################## 100.0%\n"
          ]
        }
      ],
      "source": [
        "gget.setup(\"alphafold\")"
      ]
    },
    {
      "cell_type": "markdown",
      "source": [
        "Predict a protein structure:"
      ],
      "metadata": {
        "id": "mAPpSd1Bvoe1"
      }
    },
    {
      "cell_type": "code",
      "source": [
        "# Show gget alphafold manual\n",
        "help(gget.alphafold)"
      ],
      "metadata": {
        "colab": {
          "base_uri": "https://localhost:8080/"
        },
        "id": "ShEbeEeBezlx",
        "outputId": "6a5aeecb-f5fa-4c4c-f58c-f2e34b49f1a0"
      },
      "execution_count": 5,
      "outputs": [
        {
          "output_type": "stream",
          "name": "stdout",
          "text": [
            "Help on function alphafold in module gget.gget_alphafold:\n",
            "\n",
            "alphafold(sequence, out='2022_08_23-2350_gget_alphafold_prediction', relax=False, plot=True, show_sidechains=True)\n",
            "    Predicts the structure of a protein using a slightly simplified version of AlphaFold v2.1.0 (https://doi.org/10.1038/s41586-021-03819-2)\n",
            "    published in the AlphaFold Colab notebook (https://colab.research.google.com/github/deepmind/alphafold/blob/main/notebooks/AlphaFold.ipynb).\n",
            "    \n",
            "    Args:\n",
            "      - sequence          Amino acid sequence (str), a list of sequences, or path to a FASTA file.\n",
            "      - out               Path to folder to save prediction results in (str).\n",
            "                          Default: \"./[date_time]_gget_alphafold_prediction\"\n",
            "      - relax             True/False whether to AMBER relax the best model (default: False).\n",
            "      - plot              True/False whether to provide a graphical overview of the prediction (default: True).\n",
            "      - show_sidechains   True/False whether to show side chains in the plot (default: True).\n",
            "    \n",
            "    Saves the predicted aligned error (json) and the prediction (PDB) in the defined 'out' folder.\n",
            "    \n",
            "    From the AlphaFold Colab notebook (https://colab.research.google.com/github/deepmind/alphafold/blob/main/notebooks/AlphaFold.ipynb):\n",
            "    \"In comparison to AlphaFold v2.1.0, this [algorithm] uses no templates (homologous structures)\n",
            "    and only a selected portion of the BFD database (https://bfd.mmseqs.com/). We have validated these\n",
            "    changes on several thousand recent PDB structures. While accuracy will be near-identical to the full\n",
            "    AlphaFold system on many targets, a small fraction have a large drop in accuracy due to the smaller MSA\n",
            "    and lack of templates. For best reliability, we recommend instead using the full open source AlphaFold (https://github.com/deepmind/alphafold/),\n",
            "    or the AlphaFold Protein Structure Database (https://alphafold.ebi.ac.uk/).\n",
            "    This [algorithm] has a small drop in average accuracy for multimers compared to local AlphaFold installation,\n",
            "    for full multimer accuracy it is highly recommended to run AlphaFold locally (https://github.com/deepmind/alphafold#running-alphafold).\n",
            "    Moreover, the AlphaFold-Multimer requires searching for MSA for every unique sequence in the complex, hence it is substantially slower.\n",
            "    Please note that this [algorithm] is provided as an early-access prototype and is not a finished product.\n",
            "    It is provided for theoretical modelling only and caution should be exercised in its use.\"\n",
            "    \n",
            "    If you use this function, please cite the AphaFold paper (https://doi.org/10.1038/s41586-021-03819-2) and, if applicable,\n",
            "    the AlphaFold-Multimer paper (https://www.biorxiv.org/content/10.1101/2021.10.04.463034v1).\n",
            "\n"
          ]
        }
      ]
    },
    {
      "cell_type": "markdown",
      "source": [
        "Predict the structure of CASP14 target [T1024](https://predictioncenter.org/casp14/target.cgi?id=8&view=all):"
      ],
      "metadata": {
        "id": "4O_4uSj2WF0H"
      }
    },
    {
      "cell_type": "code",
      "source": [
        "gget.alphafold(\"MAAHKGAEHHHKAAEHHEQAAKHHHAAAEHHEKGEHEQAAHHADTAYAHHKHAEEHAAQAAKHDAEHHAPKPH\")"
      ],
      "metadata": {
        "colab": {
          "base_uri": "https://localhost:8080/"
        },
        "id": "v-uY4TaTvweM",
        "outputId": "c64ee7ad-7550-48f4-9424-83fa912b1626"
      },
      "execution_count": null,
      "outputs": [
        {
          "output_type": "stream",
          "name": "stdout",
          "text": [
            "Using the single-chain model.\n"
          ]
        },
        {
          "output_type": "stream",
          "name": "stderr",
          "text": [
            "Jackhmmer search:  50%|█████     | 74/147 [elapsed: 12:47 remaining: 13:38]"
          ]
        }
      ]
    },
    {
      "cell_type": "markdown",
      "source": [
        "Predict the 3D structure of an engineered fluorescent nicotine sensor ([PDB 7S7U](https://www.rcsb.org/structure/7S7U)):"
      ],
      "metadata": {
        "id": "wr9daI2OVxpy"
      }
    },
    {
      "cell_type": "code",
      "execution_count": null,
      "metadata": {
        "id": "czZuaeG-rp9W"
      },
      "outputs": [],
      "source": [
        "gget.alphafold(\n",
        "    \"MHHHHHHGAQPARSANDTVVVGSINFTEGIIVANMVAEMIEAHTDLKVVRKLNLGGENVNFEAIKRGGANNGIDIYVEYTGHGLVDILGFPEPNVYITADKQKNGIKANFKIRHNMEDGSVQLADHYQQNTPIGDGPVLLPDNHYLSTQSVLSKDPNEKRDHMVLLEFVTAAGITLGMDELYKGGTGGSMSKGEELFTGVVPILVELDGGVNGHKFSVRGEGEGDATNGKLTLKFICTTGKLPVPWPTLVTTLTYGVQCFSRYPDHMKQHDFFKSAMPEGYVQERTISFKDDGTYKTRAEVKFEGDTLVNRIELKGIDFKEDGNILGHKLEYNFPPPSSTDPEGAYETVKKEYKRKWNIVWLKPLGFNNTYTLTVKDELAKQYNLKTFSDLAKISDKLILGATMFFLEGPDGYPGLQKLYNFKFKHTKSMDMGIRYTAIDNNEVQVIDAWATDGLLVSHKLKILEDDKAFFPPYYAAPIIRQDVLDKHPELKDVLNKLANQISLEEMQKLNYKVDGEGQDPAKVAKEFLKEKGLILQVD\",\n",
        "    show_sidechains=False\n",
        "    )"
      ]
    },
    {
      "cell_type": "markdown",
      "source": [
        "Predict the structure of the nicotine sensor 7S7U passed as a multimer instead of a single sequence (this takes significanly more time since the MSA needs to be built for each sequence separately):"
      ],
      "metadata": {
        "id": "fyEx0D0KV-Ei"
      }
    },
    {
      "cell_type": "code",
      "source": [
        "gget.alphafold(\n",
        "    [\n",
        "        \"MHHHHHHGAQPARSANDTVVVGSINFTEGIIVANMVAEMIEAHTDLKVVRKLNLGGENVNFEAIKRGGANNGIDIYVEYTGHGLVDILGFPEP\",\n",
        "        \"NVYITADKQKNGIKANFKIRHNMEDGSVQLADHYQQNTPIGDGPVLLPDNHYLSTQSVLSKDPNEKRDHMVLLEFVTAAGITLGMDELYKGGTGGSMSKGEELFTGVVPILVELDGGVNGHKFSVRGEGEGDATNGKLTLKFICTTGKLPVPWPTLVTTLTYGVQCFSRYPDHMKQHDFFKSAMPEGYVQERTISFKDDGTYKTRAEVKFEGDTLVNRIELKGIDFKEDGNILGHKLEYNFPP\",\n",
        "        \"PSSTDPEGAYETVKKEYKRKWNIVWLKPLGFNNTYTLTVKDELAKQYNLKTFSDLAKISDKLILGATMFFLEGPDGYPGLQKLYNFKFKHTKSMDMGIRYTAIDNNEVQVIDAWATDGLLVSHKLKILEDDKAFFPPYYAAPIIRQDVLDKHPELKDVLNKLANQISLEEMQKLNYKVDGEGQDPAKVAKEFLKEKGLILQVD\"\n",
        "     ],\n",
        "    show_sidechains=False\n",
        ")"
      ],
      "metadata": {
        "id": "F4Hh88nziFdz"
      },
      "execution_count": null,
      "outputs": []
    },
    {
      "cell_type": "markdown",
      "source": [
        "Download folders created by gget alphafold:"
      ],
      "metadata": {
        "id": "7cnIaVw8y77u"
      }
    },
    {
      "cell_type": "code",
      "source": [
        "from google.colab import files\n",
        "\n",
        "# Zip all folders into one file\n",
        "!zip -r gget_alphafold_predictions.zip *_gget_alphafold_prediction\n",
        "\n",
        "# Download zipped file\n",
        "files.download('/content/gget_alphafold_predictions.zip')"
      ],
      "metadata": {
        "id": "EWwwMeA506ie"
      },
      "execution_count": null,
      "outputs": []
    },
    {
      "cell_type": "code",
      "source": [
        ""
      ],
      "metadata": {
        "id": "Js6w0GQZ1z8f"
      },
      "execution_count": null,
      "outputs": []
    },
    {
      "cell_type": "code",
      "source": [
        ""
      ],
      "metadata": {
        "id": "yX_IUIEgLikk"
      },
      "execution_count": null,
      "outputs": []
    }
  ],
  "metadata": {
    "colab": {
      "name": "gget_alphafold.ipynb",
      "provenance": [],
      "collapsed_sections": [],
      "include_colab_link": true
    },
    "kernelspec": {
      "display_name": "Python 3",
      "name": "python3"
    },
    "language_info": {
      "name": "python"
    },
    "accelerator": "GPU",
    "gpuClass": "standard"
  },
  "nbformat": 4,
  "nbformat_minor": 0
}