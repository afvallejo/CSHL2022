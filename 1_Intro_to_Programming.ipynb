{
  "cells": [
    {
      "cell_type": "markdown",
      "metadata": {
        "id": "view-in-github",
        "colab_type": "text"
      },
      "source": [
        "<a href=\"https://colab.research.google.com/github/afvallejo/CSHL2022/blob/main/1_Intro_to_Programming.ipynb\" target=\"_parent\"><img src=\"https://colab.research.google.com/assets/colab-badge.svg\" alt=\"Open In Colab\"/></a>"
      ]
    },
    {
      "cell_type": "markdown",
      "metadata": {
        "id": "xWZ61Hk4LMSf"
      },
      "source": [
        "# A classic start to a programming lesson\n",
        "\n",
        "This notebook covers the basics of Python programming.\n",
        "\n",
        "**Authors**: Eric Kofman (ekofman@eng.ucsd.edu) and Pratibha Jagannatha (pjaganna@eng.ucsd.edu) \n",
        "\n",
        "**Credit**: Adapted from UCSD CMM262"
      ]
    },
    {
      "cell_type": "markdown",
      "metadata": {
        "id": "_1UctnnvLMSh"
      },
      "source": [
        "Shift-enter to run a code block"
      ]
    },
    {
      "cell_type": "code",
      "execution_count": null,
      "metadata": {
        "id": "8JmVzdABLMSi"
      },
      "outputs": [],
      "source": [
        "print(\"hello world\")"
      ]
    },
    {
      "cell_type": "markdown",
      "metadata": {
        "id": "kOn703PVLMSi"
      },
      "source": [
        "## But first... a bit about Jupyter notebooks"
      ]
    },
    {
      "cell_type": "markdown",
      "metadata": {
        "id": "ugsY-BS1LMSj"
      },
      "source": [
        "Jupyter notebooks let you interactively run code and inspect your work in \"blocks.\"\""
      ]
    },
    {
      "cell_type": "markdown",
      "metadata": {
        "id": "ScmlPmWHLMSj"
      },
      "source": [
        "Click on this line, then hit Shift-Enter to advance past it and run."
      ]
    },
    {
      "cell_type": "markdown",
      "metadata": {
        "id": "zVlxiWvpLMSj"
      },
      "source": [
        "Click on this line, then try clicking the *plus* sign above to add a new cell."
      ]
    },
    {
      "cell_type": "markdown",
      "metadata": {
        "id": "lOHwXc4gLMSj"
      },
      "source": [
        "Click on this line, then click on the *scissors* symbol above to delete this cell. You probably don't want to do that right now, but hey, we're just trying to give you a sense of the toolbox you're working with."
      ]
    },
    {
      "cell_type": "markdown",
      "metadata": {
        "id": "Ftut2eH-LMSj"
      },
      "source": [
        "Ok now don't touch those scissors again today ;)"
      ]
    },
    {
      "cell_type": "markdown",
      "metadata": {
        "id": "zI7OJbZeLMSk"
      },
      "source": [
        "## Variables"
      ]
    },
    {
      "cell_type": "markdown",
      "metadata": {
        "id": "CGJ9BE6-LMSk"
      },
      "source": [
        "Variables are how we store the values we work with in the process of writing a program or script. There are several types:"
      ]
    },
    {
      "cell_type": "markdown",
      "metadata": {
        "id": "TDdAmsNbLMSk"
      },
      "source": [
        "##### Integers"
      ]
    },
    {
      "cell_type": "code",
      "execution_count": null,
      "metadata": {
        "id": "2m793RleLMSk"
      },
      "outputs": [],
      "source": [
        "a = 5"
      ]
    },
    {
      "cell_type": "code",
      "execution_count": null,
      "metadata": {
        "id": "PCOYViNfLMSk"
      },
      "outputs": [],
      "source": [
        "type(a)"
      ]
    },
    {
      "cell_type": "code",
      "execution_count": null,
      "metadata": {
        "id": "xi5r6c5ILMSl"
      },
      "outputs": [],
      "source": [
        "print(a)"
      ]
    },
    {
      "cell_type": "markdown",
      "metadata": {
        "id": "hYeauQb7LMSl"
      },
      "source": [
        "You can do all the things with integers that you would expect!"
      ]
    },
    {
      "cell_type": "code",
      "execution_count": null,
      "metadata": {
        "id": "4PIigLnxLMSl"
      },
      "outputs": [],
      "source": [
        "a + 6"
      ]
    },
    {
      "cell_type": "code",
      "execution_count": null,
      "metadata": {
        "id": "LAAuMhnlLMSl"
      },
      "outputs": [],
      "source": [
        "a * 5"
      ]
    },
    {
      "cell_type": "code",
      "execution_count": null,
      "metadata": {
        "id": "ib7Z2mO3LMSl"
      },
      "outputs": [],
      "source": [
        "a / 5"
      ]
    },
    {
      "cell_type": "code",
      "execution_count": null,
      "metadata": {
        "id": "FnWkPNlLLMSl"
      },
      "outputs": [],
      "source": [
        "# This one is a bit tricky... \n",
        "a ** 2"
      ]
    },
    {
      "cell_type": "markdown",
      "metadata": {
        "id": "QPeM4owSLMSm"
      },
      "source": [
        "#### Note: the '#' preceding a line indicate that the line should be read as a comment!"
      ]
    },
    {
      "cell_type": "code",
      "execution_count": null,
      "metadata": {
        "id": "GiCXAdEZLMSm"
      },
      "outputs": [],
      "source": [
        "# How about this one?\n",
        "a % 2"
      ]
    },
    {
      "cell_type": "code",
      "execution_count": null,
      "metadata": {
        "id": "Ubus7uIBLMSm"
      },
      "outputs": [],
      "source": [
        "# What do you think a % 5 would yield?"
      ]
    },
    {
      "cell_type": "markdown",
      "metadata": {
        "id": "OZOLxQqwLMSm"
      },
      "source": [
        "#### Floats "
      ]
    },
    {
      "cell_type": "markdown",
      "metadata": {
        "id": "PYTLY1rVLMSm"
      },
      "source": [
        "They allow you to get into decimals"
      ]
    },
    {
      "cell_type": "code",
      "execution_count": null,
      "metadata": {
        "id": "oo_CsaWsLMSm"
      },
      "outputs": [],
      "source": [
        "my_float = 2.8"
      ]
    },
    {
      "cell_type": "code",
      "execution_count": null,
      "metadata": {
        "id": "dne4qrMULMSm"
      },
      "outputs": [],
      "source": [
        "type(my_float)"
      ]
    },
    {
      "cell_type": "code",
      "execution_count": null,
      "metadata": {
        "id": "3xBTW9hsLMSm"
      },
      "outputs": [],
      "source": [
        "print(my_float)"
      ]
    },
    {
      "cell_type": "markdown",
      "metadata": {
        "id": "Old0RJSlLMSm"
      },
      "source": [
        "##### Booleans"
      ]
    },
    {
      "cell_type": "code",
      "execution_count": null,
      "metadata": {
        "id": "x28w18-ULMSm"
      },
      "outputs": [],
      "source": [
        "today_is_monday = True\n",
        "today_is_friday = False"
      ]
    },
    {
      "cell_type": "code",
      "execution_count": null,
      "metadata": {
        "id": "tSWQoUa2LMSn"
      },
      "outputs": [],
      "source": [
        "type(today_is_monday)"
      ]
    },
    {
      "cell_type": "code",
      "execution_count": null,
      "metadata": {
        "id": "60aXrCS_LMSn"
      },
      "outputs": [],
      "source": [
        "type(today_is_friday)"
      ]
    },
    {
      "cell_type": "markdown",
      "metadata": {
        "id": "SIpAF7OlLMSn"
      },
      "source": [
        "###### Strings"
      ]
    },
    {
      "cell_type": "code",
      "execution_count": null,
      "metadata": {
        "id": "vNK91rB6LMSn"
      },
      "outputs": [],
      "source": [
        "b = \"this is a string\""
      ]
    },
    {
      "cell_type": "code",
      "execution_count": null,
      "metadata": {
        "id": "IOhOwAqQLMSn"
      },
      "outputs": [],
      "source": [
        "type(b)"
      ]
    },
    {
      "cell_type": "code",
      "execution_count": null,
      "metadata": {
        "id": "aGUZc43xLMSn"
      },
      "outputs": [],
      "source": [
        "print(b)"
      ]
    },
    {
      "cell_type": "code",
      "execution_count": null,
      "metadata": {
        "id": "KqujzRrELMSn"
      },
      "outputs": [],
      "source": [
        "len(b)"
      ]
    },
    {
      "cell_type": "markdown",
      "metadata": {
        "id": "zmlrehXdLMSn"
      },
      "source": [
        "You can combine strings"
      ]
    },
    {
      "cell_type": "code",
      "execution_count": null,
      "metadata": {
        "id": "Y-6qumNbLMSn"
      },
      "outputs": [],
      "source": [
        "b + \", please enjoy it\""
      ]
    },
    {
      "cell_type": "markdown",
      "metadata": {
        "id": "qODHf9ktLMSn"
      },
      "source": [
        "You can index into strings"
      ]
    },
    {
      "cell_type": "code",
      "execution_count": null,
      "metadata": {
        "id": "F3SnAeljLMSn"
      },
      "outputs": [],
      "source": [
        "b[0]"
      ]
    },
    {
      "cell_type": "markdown",
      "metadata": {
        "id": "1L5rDbY9LMSn"
      },
      "source": [
        "Yes that's right, the first index is actually accessed using the zero-th position. What if we want to select a stretch of characters?"
      ]
    },
    {
      "cell_type": "markdown",
      "metadata": {
        "id": "OrFy8u2KLMSn"
      },
      "source": [
        "<img src=\"https://github.com/YeoLab/cshl_2022/blob/main/1_programming/public-data/1_programming/img/zeroindexing.png?raw=1\">"
      ]
    },
    {
      "cell_type": "code",
      "execution_count": null,
      "metadata": {
        "id": "MBX0LuksLMSn"
      },
      "outputs": [],
      "source": [
        "b[0:4]"
      ]
    },
    {
      "cell_type": "code",
      "execution_count": null,
      "metadata": {
        "id": "Zm8bImveLMSn"
      },
      "outputs": [],
      "source": [
        "### NOW YOU TRY: select the characters from b that will give you the word \"is\"\n",
        "\n"
      ]
    },
    {
      "cell_type": "markdown",
      "metadata": {
        "id": "B-GZtiLfLMSn"
      },
      "source": [
        "You can also access the characters at the tail end of a string..."
      ]
    },
    {
      "cell_type": "code",
      "execution_count": null,
      "metadata": {
        "id": "FKdinIfoLMSn"
      },
      "outputs": [],
      "source": [
        "b[5:]"
      ]
    },
    {
      "cell_type": "markdown",
      "metadata": {
        "id": "6UW73r_9LMSo"
      },
      "source": [
        "##### Lists"
      ]
    },
    {
      "cell_type": "code",
      "execution_count": null,
      "metadata": {
        "id": "LD8Banw4LMSo"
      },
      "outputs": [],
      "source": [
        "beatles = ['George', 'Paul', 'Ringo', 'John']"
      ]
    },
    {
      "cell_type": "code",
      "execution_count": null,
      "metadata": {
        "id": "yd57gqOlLMSo"
      },
      "outputs": [],
      "source": [
        "print(beatles)"
      ]
    },
    {
      "cell_type": "code",
      "execution_count": null,
      "metadata": {
        "id": "LTYzzB9GLMSo"
      },
      "outputs": [],
      "source": [
        "type(beatles)"
      ]
    },
    {
      "cell_type": "markdown",
      "metadata": {
        "id": "FTQDjwEsLMSo"
      },
      "source": [
        "In the spirit of **Abbey Road**, let's say you wanted to help these Beatles *\"Come Together.\"* Feel free to unmute your zoom to laugh at this joke, it will boost our confidence.\n",
        "\n",
        "You can join lists into a string using the following construction:"
      ]
    },
    {
      "cell_type": "code",
      "execution_count": null,
      "metadata": {
        "id": "IYZFBBx6LMSo"
      },
      "outputs": [],
      "source": [
        "','.join(beatles)"
      ]
    },
    {
      "cell_type": "markdown",
      "metadata": {
        "id": "uWKFCognLMSo"
      },
      "source": [
        "<img src=\"https://github.com/YeoLab/cshl_2022/blob/main/1_programming/public-data/1_programming/img/abbeyroad.jpeg?raw=1\">"
      ]
    },
    {
      "cell_type": "code",
      "execution_count": null,
      "metadata": {
        "id": "X39gpP48LMSo"
      },
      "outputs": [],
      "source": [
        "### NOW YOU TRY: join the beatles with | to make your own mini version of Abbey road album cover.\n",
        "#Remember, click Shift-Enter after you've typed your commands in to execute them.\n",
        "\n",
        "\n"
      ]
    },
    {
      "cell_type": "markdown",
      "metadata": {
        "id": "BajEYvaKLMSo"
      },
      "source": [
        "In the same way as you can index into the characters of a string, you can index into the contents of a list"
      ]
    },
    {
      "cell_type": "code",
      "execution_count": null,
      "metadata": {
        "id": "BEYVSNQULMSo"
      },
      "outputs": [],
      "source": [
        "### NOW YOU TRY: Index into the list to find \"Ringo\" (remember the first object in the list is found at the 0th index)\n",
        "\n",
        "\n"
      ]
    },
    {
      "cell_type": "markdown",
      "metadata": {
        "id": "Rjfm6cd7LMSo"
      },
      "source": [
        "##### You can of course append new items to a list"
      ]
    },
    {
      "cell_type": "code",
      "execution_count": null,
      "metadata": {
        "id": "leW8GavpLMSo"
      },
      "outputs": [],
      "source": [
        "beatles"
      ]
    },
    {
      "cell_type": "code",
      "execution_count": null,
      "metadata": {
        "id": "wXDszfxgLMSo"
      },
      "outputs": [],
      "source": [
        "beatles.append('Sir George Martin')"
      ]
    },
    {
      "cell_type": "code",
      "execution_count": null,
      "metadata": {
        "id": "QjiIystkLMSo"
      },
      "outputs": [],
      "source": [
        "beatles"
      ]
    },
    {
      "cell_type": "markdown",
      "metadata": {
        "id": "xcgAeu2yLMSo"
      },
      "source": [
        "##### And check how many items are in a list:"
      ]
    },
    {
      "cell_type": "code",
      "execution_count": null,
      "metadata": {
        "id": "Xm_xorWjLMSo"
      },
      "outputs": [],
      "source": [
        "len(beatles)"
      ]
    },
    {
      "cell_type": "markdown",
      "metadata": {
        "id": "jXZKzU-RLMSo"
      },
      "source": [
        "##### Plus sort them"
      ]
    },
    {
      "cell_type": "code",
      "execution_count": null,
      "metadata": {
        "id": "KdxFgoxiLMSp"
      },
      "outputs": [],
      "source": [
        "sorted(beatles)"
      ]
    },
    {
      "cell_type": "markdown",
      "metadata": {
        "id": "1Ezk9GrGLMSp"
      },
      "source": [
        "## Conditional Statements"
      ]
    },
    {
      "cell_type": "markdown",
      "metadata": {
        "id": "s713h4-rLMSp"
      },
      "source": [
        "Sometimes you want to check if a condition is true before proceeding with a certain action. For example, if it's Friday, you gotta get down. Before COVID, at least."
      ]
    },
    {
      "cell_type": "markdown",
      "metadata": {
        "id": "NSBp-JauLMSp"
      },
      "source": [
        "<img src=\"https://github.com/YeoLab/cshl_2022/blob/main/1_programming/public-data/1_programming/img/rebeccablack.jpg?raw=1\">"
      ]
    },
    {
      "cell_type": "code",
      "execution_count": null,
      "metadata": {
        "id": "ch5_7zjaLMSp"
      },
      "outputs": [],
      "source": [
        "if today_is_friday:\n",
        "    print('Gotta get down')"
      ]
    },
    {
      "cell_type": "markdown",
      "metadata": {
        "id": "JcQmNXbnLMSp"
      },
      "source": [
        "Hmm wait what happened?! Well, remember above we set today_is_friday equal to \"False\"? Let's remedy this ridiculous situation."
      ]
    },
    {
      "cell_type": "code",
      "execution_count": null,
      "metadata": {
        "id": "eb0VlmK_LMSp"
      },
      "outputs": [],
      "source": [
        "today_is_friday = True"
      ]
    },
    {
      "cell_type": "markdown",
      "metadata": {
        "id": "avghLN_vLMSp"
      },
      "source": [
        "Now let's try again."
      ]
    },
    {
      "cell_type": "code",
      "execution_count": null,
      "metadata": {
        "id": "AMHbrL9vLMSp"
      },
      "outputs": [],
      "source": [
        "if today_is_friday:\n",
        "    print('Gotta get down')"
      ]
    },
    {
      "cell_type": "markdown",
      "metadata": {
        "id": "v2W8CO3eLMSp"
      },
      "source": [
        "What if we want an alternative in case our first check doesn't work?"
      ]
    },
    {
      "cell_type": "code",
      "execution_count": null,
      "metadata": {
        "id": "DpT7ehwKLMSp"
      },
      "outputs": [],
      "source": [
        "today_is_friday = False"
      ]
    },
    {
      "cell_type": "code",
      "execution_count": null,
      "metadata": {
        "id": "uHoMTLwOLMSp"
      },
      "outputs": [],
      "source": [
        "if today_is_friday:\n",
        "    print('Gotta get down')\n",
        "else:\n",
        "    print(\"Is there really such a thing as time anymore?\")"
      ]
    },
    {
      "cell_type": "markdown",
      "metadata": {
        "id": "E5bSs0RnLMSp"
      },
      "source": [
        "##### You can declare booleans, but you can also write explicit comparisons to generate them. For example:"
      ]
    },
    {
      "cell_type": "code",
      "execution_count": null,
      "metadata": {
        "id": "GL7w45TkLMSp"
      },
      "outputs": [],
      "source": [
        "if 1 == 2:\n",
        "    print(\"Math broke\")"
      ]
    },
    {
      "cell_type": "markdown",
      "metadata": {
        "id": "X_J6wMtqLMSp"
      },
      "source": [
        "Phew, thank god. That expression \"1 == 2\" is actually generating a boolean itself. Check it out:"
      ]
    },
    {
      "cell_type": "code",
      "execution_count": null,
      "metadata": {
        "id": "5KXAsxT8LMSp"
      },
      "outputs": [],
      "source": [
        "print(1 == 2)"
      ]
    },
    {
      "cell_type": "markdown",
      "metadata": {
        "id": "Vzs-p4Z0LMSq"
      },
      "source": [
        "So the expression above is equivalent to:\n",
        "    \n",
        "    if False:\n",
        "        print(\"Math broke\")\n",
        "        \n",
        "Which would never be true, by definition.\n"
      ]
    },
    {
      "cell_type": "markdown",
      "metadata": {
        "id": "LaKT73ZmLMSq"
      },
      "source": [
        "Not that there are *two* equal signs here, as oppposed to variable assignment, which has only one. If we had a true expression being checked in our conditional, then the block of code would execute. For example:"
      ]
    },
    {
      "cell_type": "code",
      "execution_count": null,
      "metadata": {
        "id": "Pfu7oFLxLMSq"
      },
      "outputs": [],
      "source": [
        "if 3 == 3:\n",
        "    print(\"Math works\")"
      ]
    },
    {
      "cell_type": "markdown",
      "metadata": {
        "id": "T9iX85j_LMSq"
      },
      "source": [
        "# Functions"
      ]
    },
    {
      "cell_type": "markdown",
      "metadata": {
        "id": "1cP5oE4CLMSq"
      },
      "source": [
        "A function is the building block of code. A function represents a task.\n"
      ]
    },
    {
      "cell_type": "markdown",
      "metadata": {
        "id": "AVUPZetqLMSq"
      },
      "source": [
        "<img src=\"https://github.com/YeoLab/cshl_2022/blob/main/1_programming/public-data/1_programming/img/calvin.jpeg?raw=1\">"
      ]
    },
    {
      "cell_type": "code",
      "execution_count": null,
      "metadata": {
        "id": "xh-UYh0QLMSq"
      },
      "outputs": [],
      "source": [
        "# Here we are just defining the function, not running the code!\n",
        "def do_the_thing():\n",
        "    print(\"Hello\")"
      ]
    },
    {
      "cell_type": "code",
      "execution_count": null,
      "metadata": {
        "id": "YZDJMclTLMSq"
      },
      "outputs": [],
      "source": [
        "# It is indeed a function\n",
        "type(do_the_thing)"
      ]
    },
    {
      "cell_type": "markdown",
      "metadata": {
        "id": "DxCEAhMoLMSq"
      },
      "source": [
        "*Anatomy of a function*\n",
        "\n",
        "A function has a few main components. Let's dissect this one! Get your forceps. This is a veeeery simple one but we've got to start with flies before we go onto humans right? No offense to fly people -- you can get a lot of mileage out of flies.\n",
        "\n",
        "    \n",
        "    def do_the_thing():\n",
        "   **This line is the function header.**\n",
        "   In python we define a function using the keyword \"def,\" then specify the function name. So our function is called do_the_thing. Then we always put a colon before going on to fill in the function body.\n",
        "\n",
        "\n",
        "    print(\"Hello\")\n",
        "    \n",
        "   **The function body is where the code run by the function is specified. So when we run this function it will print \"Hello.\"**\n",
        "   \n",
        "       \n",
        "    \n"
      ]
    },
    {
      "cell_type": "markdown",
      "metadata": {
        "id": "vmSCLjfbLMSq"
      },
      "source": [
        "Okay... so what does this mean? Well, now we can print \"Hello\" several times without actually writing out the explicit print statement."
      ]
    },
    {
      "cell_type": "code",
      "execution_count": null,
      "metadata": {
        "id": "R5JJCj5vLMSq"
      },
      "outputs": [],
      "source": [
        "do_the_thing()"
      ]
    },
    {
      "cell_type": "code",
      "execution_count": null,
      "metadata": {
        "id": "kgJZvtvHLMSq"
      },
      "outputs": [],
      "source": [
        "do_the_thing()"
      ]
    },
    {
      "cell_type": "markdown",
      "metadata": {
        "id": "1lce-ibeLMSq"
      },
      "source": [
        "## Function parameters"
      ]
    },
    {
      "cell_type": "markdown",
      "metadata": {
        "id": "tO6kmmleLMSq"
      },
      "source": [
        "Nice! So how is this useful? Well let's say you wanted to greet several different people but were too lazy to write each one a card. You could make a new, fancier version of this function that let's you reuse your code... "
      ]
    },
    {
      "cell_type": "code",
      "execution_count": null,
      "metadata": {
        "id": "XoULJdULLMSq"
      },
      "outputs": [],
      "source": [
        "def say_hello_to(name):\n",
        "    print(\"Hello \" + name)"
      ]
    },
    {
      "cell_type": "markdown",
      "metadata": {
        "id": "rQBW0V_vLMSr"
      },
      "source": [
        "*Anatomy of a function*"
      ]
    },
    {
      "cell_type": "markdown",
      "metadata": {
        "id": "Sn8X8wEnLMSr"
      },
      "source": [
        "Hold up! Now there's something in between those parentheses!\n",
        "    \n",
        "    def say_hello_to(name):\n",
        "    \n",
        "In this case, \"name\" is a **parameter** that can be used by the function body. In this case, now the function body is printing \"Hello\" followed by the value of the \"name\" parameter."
      ]
    },
    {
      "cell_type": "code",
      "execution_count": null,
      "metadata": {
        "id": "5GwG4pt8LMSr"
      },
      "outputs": [],
      "source": [
        "say_hello_to(\"Dolly\")"
      ]
    },
    {
      "cell_type": "code",
      "execution_count": null,
      "metadata": {
        "id": "3HhOkJkDLMSr"
      },
      "outputs": [],
      "source": [
        "say_hello_to(\"poppet\")"
      ]
    },
    {
      "cell_type": "code",
      "execution_count": null,
      "metadata": {
        "id": "wmq_LDgVLMSr"
      },
      "outputs": [],
      "source": [
        "say_hello_to(\"my little friend\")"
      ]
    },
    {
      "cell_type": "markdown",
      "metadata": {
        "id": "eWnqx1SSLMSr"
      },
      "source": [
        "Anyways, you get the point."
      ]
    },
    {
      "cell_type": "code",
      "execution_count": null,
      "metadata": {
        "id": "vJfd7UdbLMSr"
      },
      "outputs": [],
      "source": [
        "# NOW YOU TRY: Try saying hello to someone/something.\n",
        "\n"
      ]
    },
    {
      "cell_type": "markdown",
      "metadata": {
        "id": "2pF_FRoqLMSr"
      },
      "source": [
        "# For loops"
      ]
    },
    {
      "cell_type": "markdown",
      "metadata": {
        "id": "Zansti4CLMSr"
      },
      "source": [
        "When you want to do something over and over and over again."
      ]
    },
    {
      "cell_type": "code",
      "execution_count": null,
      "metadata": {
        "id": "mdWyGAPKLMSr"
      },
      "outputs": [],
      "source": [
        "names = ['Dolly', 'Kitty', 'my little friend']"
      ]
    },
    {
      "cell_type": "code",
      "execution_count": null,
      "metadata": {
        "id": "gfc1LVz6LMSr"
      },
      "outputs": [],
      "source": [
        "for name in names:\n",
        "    say_hello_to(name)"
      ]
    },
    {
      "cell_type": "markdown",
      "metadata": {
        "id": "Gzy3RvASLMSr"
      },
      "source": [
        "You can also do the same thing with a range of values"
      ]
    },
    {
      "cell_type": "code",
      "execution_count": null,
      "metadata": {
        "id": "NKuBxM4VLMSr"
      },
      "outputs": [],
      "source": [
        "for i in range(10):\n",
        "    print(i)"
      ]
    },
    {
      "cell_type": "markdown",
      "metadata": {
        "id": "dY-0d3ZpLMSr"
      },
      "source": [
        "### List comprehensions\n",
        "##### Geting Fancy, impress your friends "
      ]
    },
    {
      "cell_type": "markdown",
      "metadata": {
        "id": "kpvsGiKlLMSr"
      },
      "source": [
        "Python has an interesting construction called a list comprehensions that allows us to update lists in one concise line.\n",
        "\n"
      ]
    },
    {
      "cell_type": "code",
      "execution_count": null,
      "metadata": {
        "id": "L1OtfUiHLMSr"
      },
      "outputs": [],
      "source": [
        "names"
      ]
    },
    {
      "cell_type": "markdown",
      "metadata": {
        "id": "bbOrO-miLMSr"
      },
      "source": [
        "Let's say we wanted to do the same thing for each item in a list, for example, convert them all to uppercase. This is what this looks like as a standalone."
      ]
    },
    {
      "cell_type": "code",
      "execution_count": null,
      "metadata": {
        "id": "-R2Cvvu5LMSr"
      },
      "outputs": [],
      "source": [
        "\"baby letters\".upper()"
      ]
    },
    {
      "cell_type": "markdown",
      "metadata": {
        "id": "9HmzXk-LLMSr"
      },
      "source": [
        "And in a list comprehension?"
      ]
    },
    {
      "cell_type": "code",
      "execution_count": null,
      "metadata": {
        "id": "5JX4T45JLMSr"
      },
      "outputs": [],
      "source": [
        "[name.upper() for name in names]"
      ]
    },
    {
      "cell_type": "markdown",
      "metadata": {
        "id": "a17S9KdiLMSs"
      },
      "source": [
        "Take some time to wrap your head around that."
      ]
    },
    {
      "cell_type": "markdown",
      "metadata": {
        "id": "MzzhDQfwLMSs"
      },
      "source": [
        "We can of course use our functions in the same way. "
      ]
    },
    {
      "cell_type": "code",
      "execution_count": null,
      "metadata": {
        "id": "lpGxWRxTLMSs"
      },
      "outputs": [],
      "source": [
        "### NOW YOU TRY: Try using *say_hello_to* for each of these names in a list comprehension:\n",
        "\n"
      ]
    },
    {
      "cell_type": "markdown",
      "metadata": {
        "id": "fknsuv-ULMSs"
      },
      "source": [
        "## Function return statments\n",
        "#### Getting even fancier!"
      ]
    },
    {
      "cell_type": "markdown",
      "metadata": {
        "id": "fiFlZI3OLMSs"
      },
      "source": [
        "What if we wanted to make a sandwich that always required two spreads and a type of bread to be specified?"
      ]
    },
    {
      "cell_type": "code",
      "execution_count": null,
      "metadata": {
        "id": "T4sdkCAGLMSs"
      },
      "outputs": [],
      "source": [
        "def make_sandwich(spread1, spread2, bread):\n",
        "    return \"you made a sandwich with \" + spread1 + \" and \" + spread2 + \" on \" + bread + \" bread\""
      ]
    },
    {
      "cell_type": "markdown",
      "metadata": {
        "id": "YKXNWibiLMSs"
      },
      "source": [
        "*Anatomy of a function*\n",
        "\n",
        "Ok this time we're a bit fancier.\n",
        "\n",
        "We've got a function called **make_sandwich** that takes three parameters:\n",
        "* spread1\n",
        "* spread2\n",
        "* bread\n",
        "\n",
        "But what is this **return** word?\n",
        "\n",
        "When you call or execute this function you will be giving it parameters and in exchange will receive whatever the return statement specifies. In this case, a string explaining your meal.\n"
      ]
    },
    {
      "cell_type": "code",
      "execution_count": null,
      "metadata": {
        "id": "Xs3LCSweLMSs"
      },
      "outputs": [],
      "source": [
        "pbj = make_sandwich(\"peanut butter\", \"jelly\", \"white\")"
      ]
    },
    {
      "cell_type": "markdown",
      "metadata": {
        "id": "7fK3P5ElLMSs"
      },
      "source": [
        "So pbj is a string."
      ]
    },
    {
      "cell_type": "code",
      "execution_count": null,
      "metadata": {
        "id": "V7RGCbTBLMSs"
      },
      "outputs": [],
      "source": [
        "type(pbj)"
      ]
    },
    {
      "cell_type": "code",
      "execution_count": null,
      "metadata": {
        "id": "z0owts1eLMSs"
      },
      "outputs": [],
      "source": [
        "print(pbj)"
      ]
    },
    {
      "cell_type": "code",
      "execution_count": null,
      "metadata": {
        "id": "rR3GVEuvLMSs"
      },
      "outputs": [],
      "source": [
        "### NOW YOU TRY: make a function that multiplies a value by 5\n",
        "def multiply_by_five(n):\n",
        "    ### fill this in!\n",
        "    pass"
      ]
    },
    {
      "cell_type": "code",
      "execution_count": null,
      "metadata": {
        "id": "QEL8Y2NzLMSs"
      },
      "outputs": [],
      "source": [
        "answer = multiply_by_five(5)\n",
        "print(answer)"
      ]
    },
    {
      "cell_type": "code",
      "execution_count": null,
      "metadata": {
        "id": "yDwmv9Q5LMSs"
      },
      "outputs": [],
      "source": [
        "### NOW YOU TRY: make a function that converts celsius to fahrenheit\n",
        "def celsius_to_fahrenheit(c):\n",
        "    ### fill this in!\n",
        "    pass"
      ]
    },
    {
      "cell_type": "code",
      "execution_count": null,
      "metadata": {
        "id": "mDd4blQXLMSs"
      },
      "outputs": [],
      "source": [
        "f_0 = celsius_to_fahrenheit(0)\n",
        "f_100 = celsius_to_fahrenheit(100)"
      ]
    },
    {
      "cell_type": "code",
      "execution_count": null,
      "metadata": {
        "id": "m_TaE52FLMSs"
      },
      "outputs": [],
      "source": [
        "print(f_0)\n",
        "print(f_100)"
      ]
    },
    {
      "cell_type": "markdown",
      "metadata": {
        "id": "84TEq-11LMSs"
      },
      "source": [
        "### Variables in action!"
      ]
    },
    {
      "cell_type": "code",
      "execution_count": null,
      "metadata": {
        "id": "80ZaN_YjLMSs"
      },
      "outputs": [],
      "source": [
        "a = \"peanut butter\"\n",
        "b = \"jelly\"\n",
        "c = \"white\""
      ]
    },
    {
      "cell_type": "code",
      "execution_count": null,
      "metadata": {
        "id": "I4HgHROALMSs"
      },
      "outputs": [],
      "source": [
        "sandwich = make_sandwich(a, b, c)\n",
        "print(sandwich)"
      ]
    },
    {
      "cell_type": "markdown",
      "metadata": {
        "id": "YNXFFGW1LMSs"
      },
      "source": [
        "Let's try changing variable a..."
      ]
    },
    {
      "cell_type": "code",
      "execution_count": null,
      "metadata": {
        "id": "kmcNN1FTLMSt"
      },
      "outputs": [],
      "source": [
        "a = \"pickles\""
      ]
    },
    {
      "cell_type": "code",
      "execution_count": null,
      "metadata": {
        "id": "ZwN3yO8mLMSt"
      },
      "outputs": [],
      "source": [
        "sandwich = make_sandwich(a, b, c)\n",
        "print(sandwich)"
      ]
    },
    {
      "cell_type": "markdown",
      "metadata": {
        "id": "BqVPuGYtLMSt"
      },
      "source": [
        "### Conditional Statements in action!"
      ]
    },
    {
      "cell_type": "code",
      "execution_count": null,
      "metadata": {
        "id": "DdppggHwLMSt"
      },
      "outputs": [],
      "source": [
        "def make_sandwich(spread1, spread2, bread):\n",
        "    if (spread1 == 'pickles') and (spread2 == 'jelly'):\n",
        "        return \"you cannot make a sandwich with \" + spread1 + \" and \" + spread2 + \", because that sounds disgusting\"\n",
        "    else:\n",
        "        return \"you made a sandwich with \" + spread1 + \" and \" + spread2 + \" on \" + bread + \" bread\""
      ]
    },
    {
      "cell_type": "code",
      "execution_count": null,
      "metadata": {
        "id": "rzKsLBlKLMSt"
      },
      "outputs": [],
      "source": [
        "sandwich = make_sandwich(a, b, c)\n",
        "print(sandwich)"
      ]
    },
    {
      "cell_type": "markdown",
      "metadata": {
        "id": "e5AIbTo2LMSt"
      },
      "source": [
        "### While and For Loops"
      ]
    },
    {
      "cell_type": "code",
      "execution_count": null,
      "metadata": {
        "id": "t4aBeOEkLMSt"
      },
      "outputs": [],
      "source": [
        "a = \"peanut butter\"\n",
        "b = \"jelly\"\n",
        "c = \"white\""
      ]
    },
    {
      "cell_type": "code",
      "execution_count": null,
      "metadata": {
        "id": "cb8gr9C_LMSt"
      },
      "outputs": [],
      "source": [
        "sandwiches_eaten = 0\n",
        "hungry = True\n",
        "while hungry == True:\n",
        "    # Execute our function\n",
        "    sandwich = make_sandwich(a, b, c)\n",
        "    print(sandwich)\n",
        "    \n",
        "    # Increase our tracker for how many sandwiches have been eaten\n",
        "    sandwiches_eaten = sandwiches_eaten + 1\n",
        "    \n",
        "    # Conditional statment to check our stopping condition\n",
        "    if sandwiches_eaten == 5:\n",
        "        hungry = False"
      ]
    },
    {
      "cell_type": "code",
      "execution_count": null,
      "metadata": {
        "id": "0gLGo_WbLMSt"
      },
      "outputs": [],
      "source": [
        "num_sandwiches = 5\n",
        "for i in range(0, num_sandwiches):\n",
        "    sandwich = make_sandwich(a, b, c)\n",
        "    print(sandwich)"
      ]
    },
    {
      "cell_type": "markdown",
      "metadata": {
        "id": "kvLhWQFnLMSt"
      },
      "source": [
        "### Lists, Dictionaries, and Sets"
      ]
    },
    {
      "cell_type": "markdown",
      "metadata": {
        "id": "gTevtM3sLMSt"
      },
      "source": [
        "#### Lists"
      ]
    },
    {
      "cell_type": "code",
      "execution_count": null,
      "metadata": {
        "id": "fRunr08ALMSt"
      },
      "outputs": [],
      "source": [
        "all_breads = [\"white\", \"wheat\", \"gluten free\", \"sourdough\", \"flatbread\", \"pita\"]"
      ]
    },
    {
      "cell_type": "code",
      "execution_count": null,
      "metadata": {
        "id": "cZyBoS5DLMSt"
      },
      "outputs": [],
      "source": [
        "for bread in all_breads:\n",
        "    sandwich = make_sandwich(a, b, bread)\n",
        "    print(sandwich)\n",
        "    "
      ]
    },
    {
      "cell_type": "markdown",
      "metadata": {
        "id": "bvNVLt0lLMSt"
      },
      "source": [
        "#### Dictionaries"
      ]
    },
    {
      "cell_type": "code",
      "execution_count": null,
      "metadata": {
        "id": "GfbkcS_rLMSt"
      },
      "outputs": [],
      "source": [
        "spread_pairs = {\n",
        "    \"peanut butter\": \"jelly\",\n",
        "    \"goat cheese\": \"avocado\", \n",
        "    \"mustard\":\"mayonaise\"\n",
        "}"
      ]
    },
    {
      "cell_type": "code",
      "execution_count": null,
      "metadata": {
        "id": "gfOxaixOLMSt"
      },
      "outputs": [],
      "source": [
        "spread_pairs['peanut butter']"
      ]
    },
    {
      "cell_type": "code",
      "execution_count": null,
      "metadata": {
        "id": "yhjf73yhLMSu"
      },
      "outputs": [],
      "source": [
        "spread_pairs['goat cheese']"
      ]
    },
    {
      "cell_type": "code",
      "execution_count": null,
      "metadata": {
        "id": "zm20uok1LMSu"
      },
      "outputs": [],
      "source": [
        "for spread1 in spread_pairs:\n",
        "    sandwich = make_sandwich(spread1, spread_pairs[spread1], c)\n",
        "    print(sandwich)"
      ]
    },
    {
      "cell_type": "markdown",
      "metadata": {
        "id": "VRGJQ8BILMSu"
      },
      "source": [
        "#### Sets"
      ]
    },
    {
      "cell_type": "code",
      "execution_count": null,
      "metadata": {
        "id": "5WGwoTwGLMSu"
      },
      "outputs": [],
      "source": [
        "all_spreads = set()"
      ]
    },
    {
      "cell_type": "code",
      "execution_count": null,
      "metadata": {
        "id": "LGMKeAMVLMSu"
      },
      "outputs": [],
      "source": [
        "all_spreads.add('mayo')"
      ]
    },
    {
      "cell_type": "code",
      "execution_count": null,
      "metadata": {
        "id": "gE86K-cZLMSu"
      },
      "outputs": [],
      "source": [
        "all_spreads"
      ]
    },
    {
      "cell_type": "code",
      "execution_count": null,
      "metadata": {
        "id": "ZwCZ8wKwLMSu"
      },
      "outputs": [],
      "source": [
        "all_spreads.add('mustard')"
      ]
    },
    {
      "cell_type": "code",
      "execution_count": null,
      "metadata": {
        "id": "1Rdq3gRSLMSu"
      },
      "outputs": [],
      "source": [
        "all_spreads"
      ]
    },
    {
      "cell_type": "code",
      "execution_count": null,
      "metadata": {
        "id": "BdVYq8WlLMSu"
      },
      "outputs": [],
      "source": [
        "all_spreads.add('vegemite')"
      ]
    },
    {
      "cell_type": "code",
      "execution_count": null,
      "metadata": {
        "id": "KVPnUhq2LMSu"
      },
      "outputs": [],
      "source": [
        "all_spreads"
      ]
    },
    {
      "cell_type": "markdown",
      "metadata": {
        "id": "bWr8P_PeLMSu"
      },
      "source": [
        "But if we add the same object nothing happens, sets maintain a collection of *unique* objects"
      ]
    },
    {
      "cell_type": "code",
      "execution_count": null,
      "metadata": {
        "id": "OPEcy4G5LMSu"
      },
      "outputs": [],
      "source": [
        "all_spreads.add('mustard')"
      ]
    },
    {
      "cell_type": "code",
      "execution_count": null,
      "metadata": {
        "id": "XJ2NED4_LMSu"
      },
      "outputs": [],
      "source": [
        "all_spreads"
      ]
    },
    {
      "cell_type": "code",
      "execution_count": null,
      "metadata": {
        "id": "kOf7umcbLMSu"
      },
      "outputs": [],
      "source": [
        ""
      ]
    }
  ],
  "metadata": {
    "kernelspec": {
      "display_name": "Python 3 (ipykernel)",
      "language": "python",
      "name": "python3"
    },
    "language_info": {
      "codemirror_mode": {
        "name": "ipython",
        "version": 3
      },
      "file_extension": ".py",
      "mimetype": "text/x-python",
      "name": "python",
      "nbconvert_exporter": "python",
      "pygments_lexer": "ipython3",
      "version": "3.9.12"
    },
    "colab": {
      "provenance": [],
      "include_colab_link": true
    }
  },
  "nbformat": 4,
  "nbformat_minor": 0
}