{
  "cells": [
    {
      "cell_type": "markdown",
      "metadata": {
        "id": "view-in-github",
        "colab_type": "text"
      },
      "source": [
        "<a href=\"https://colab.research.google.com/github/afvallejo/CSHL2022/blob/main/1_Penguins_and_Descriptive_Statistics.ipynb\" target=\"_parent\"><img src=\"https://colab.research.google.com/assets/colab-badge.svg\" alt=\"Open In Colab\"/></a>"
      ]
    },
    {
      "cell_type": "markdown",
      "metadata": {
        "id": "uorWY5v608WO"
      },
      "source": [
        "# Penguins and Descriptive Statistics\n",
        "\n",
        "**Authors**: Clarence Mah (ckmah@ucsd.edu) and Michelle Franc Ragsac\n",
        "\n",
        "**Credit**: Adapted from UCSD CMM262\n",
        "\n",
        "We will learn how to use Jupyter Notebooks to explore the Palmer Penguins dataset in Python with some commonly-used data science packages such as `pandas`, `seaborn`, `matplotlib`, `numpy`, and `scipy`.\n",
        "\n",
        "## Table of Contents\n",
        "1. [The Palmer Penguins Dataset](#Exploring-the-Palmer-Penguins-DataFrame-with-the-pandas-and-seaborn-Packages)\n",
        "2. [Descriptive Statistics](#2.-Descriptive-Statistics)\n",
        "\n",
        "\n",
        "> The Palmer Penguins dataset is based on data points collected and made available by [Dr. Kristen Gorman](https://www.uaf.edu/cfos/people/faculty/detail/kristen-gorman.php) and the [Palmer Station, Antarctica LTER](https://pal.lternet.edu/), a member of the [Long Term Ecological Research Network](https://lternet.edu/).\n",
        ">\n",
        "> Source: https://allisonhorst.github.io/palmerpenguins/"
      ]
    },
    {
      "cell_type": "markdown",
      "metadata": {
        "id": "fNa1sCWi08WP"
      },
      "source": [
        "---\n",
        "\n",
        "## Exploring the Palmer Penguins `DataFrame` with the `pandas` and `seaborn` Packages\n",
        "\n",
        "`DataFrames` are a fundamental object type for representing data sets, implemented by the `pandas` Python package. Generally: \n",
        "\n",
        "- Each **row** contains all information about a single entry in a data set.\n",
        "- Each **column** describes a single aspect of all entries in a data set.\n",
        "\n",
        "We'll start out this notebook by **importing** the `pandas` Python package so that we can access the Palmer Penguins dataset in nice, tabular fashion. \n",
        "\n",
        "<div class=\"alert alert-block alert-info\">\n",
        "    <p><b>Additional Information about <code>pandas</code> in case you're interested...</b></p>\n",
        "    <p>Pandas is an open-source data analysis package in Python that aids in data analysis and manipulation using <code>DataFrame</code> and <code>Series</code> objects. These <code>DataFrame</code> objects can be thought of as multidimensional arrays with attached row and column tables, similar to the tables found in Excel Spreadsheets or <code>data.frame</code> objects in the R Programming Language. The <code>Series</code> objects can be thought of as a single column with connected row and column labels. Pandas also has tools for reading and writing data between in-memory structures and different commonly-used formats, such as CSV, text files, Microsoft Excel sheets, SQL databases, and the HDF5 format.</p>\n",
        "    <ul>\n",
        "        <li><strong>Pandas Website</strong>: <a href=\"https://pandas.pydata.org/\">https://pandas.pydata.org/</a></li>\n",
        "        <li><strong>Pandas Code Base on GitHub</strong>: <a href=\"https://github.com/pandas-dev/pandas\">https://github.com/pandas-dev/pandas</a></li>\n",
        "    </ul>\n",
        "</div>\n",
        "\n",
        "We'll also be using the `seaborn` and `matplotlib` packages for visualizing our data! They are two frequently-used packages used to generate figures for publications. Visualizations are a powerful way to interpret relationships between variables, so they'll be helpful to create as we're using `pandas` simultaneously.\n",
        "\n",
        "### Import the Packages We'll be Using in this Portion of the Notebook"
      ]
    },
    {
      "cell_type": "code",
      "execution_count": null,
      "metadata": {
        "id": "jJS4w8aH08WQ"
      },
      "outputs": [],
      "source": [
        "# First, import/load the pandas package into our notebook using \"pd\" as the shorthand\n",
        "import pandas as pd \n",
        "\n",
        "# Next, import/load the seaborn package into our notebook using \"sns\" as the shorthand\n",
        "import seaborn as sns"
      ]
    },
    {
      "cell_type": "markdown",
      "metadata": {
        "id": "W7F6UMq608WQ"
      },
      "source": [
        "### Load in the Palmer Penguins Dataset using `seaborn`\n",
        "\n",
        "Since `seaborn` includes a sample of the Palmer Penguins dataset, we can load it directly from the module for us to play with! "
      ]
    },
    {
      "cell_type": "code",
      "execution_count": null,
      "metadata": {
        "id": "fsqQE8fy08WR"
      },
      "outputs": [],
      "source": [
        "# This command uses the load_dataset() method from the seaborn package (sns)\n",
        "# to load the \"penguins\" dataset into a variable called penguins\n",
        "penguins = sns.load_dataset(\"penguins\")"
      ]
    },
    {
      "cell_type": "markdown",
      "metadata": {
        "id": "VYxbv6Ox08WR"
      },
      "source": [
        "---\n",
        "\n",
        "## Quick Commands for Previewing Information Contained in `DataFrames` \n",
        "\n",
        "Now that we have the dataset loaded into our notebook, the first thing we'll want to do is preview what information is present. Here are the commands that we'll be going over:\n",
        "\n",
        "* The `DataFrame.info()` method gives us a quick summary of all the columns present in our dataset\n",
        "* The `DataFrame.describe()` method gives us some quick summary statistics of the numerical values present in our dataset\n",
        "* The `DataFrame.shape` attribute contains the dimensions of the dataset in rows x columns format \n",
        "* The `DataFrame.head()` and `DataFrame.tail()` methods allow us to preview the head/beginning or tail/end of a dataset, respecitvely \n",
        "\n",
        "<div class=\"alert alert-block alert-info\">\n",
        "    <p>With these commands, <code>DataFrame</code> should be replaced by the name of the variable containing your <code>pandas</code> <code>DataFrame</code> (e.g., <code>penguins.shape</code> instead of <code>DataFrame.shape</code> will give us the dimensions of the penguins dataset).</p>\n",
        "</div>\n",
        "\n",
        "### Getting Quick Summary Information About the `DataFrame` with the `info()` and `describe()` Methods\n",
        "\n",
        "`DataFrame.info()` provides a quick summary about all of the entries within a `DataFrame`, along with the data types that are recognized in each of the columns. This method gives you the number of rows and columns, the number of non-null values, what type of data is in each column, and how much memory the data takes up on your computer. "
      ]
    },
    {
      "cell_type": "code",
      "execution_count": null,
      "metadata": {
        "colab": {
          "base_uri": "https://localhost:8080/"
        },
        "id": "eCSAZbxa08WR",
        "outputId": "279860d7-c13c-4d5f-ca49-ca0f4a6dc03b"
      },
      "outputs": [
        {
          "output_type": "stream",
          "name": "stdout",
          "text": [
            "<class 'pandas.core.frame.DataFrame'>\n",
            "RangeIndex: 344 entries, 0 to 343\n",
            "Data columns (total 7 columns):\n",
            " #   Column             Non-Null Count  Dtype  \n",
            "---  ------             --------------  -----  \n",
            " 0   species            344 non-null    object \n",
            " 1   island             344 non-null    object \n",
            " 2   bill_length_mm     342 non-null    float64\n",
            " 3   bill_depth_mm      342 non-null    float64\n",
            " 4   flipper_length_mm  342 non-null    float64\n",
            " 5   body_mass_g        342 non-null    float64\n",
            " 6   sex                333 non-null    object \n",
            "dtypes: float64(4), object(3)\n",
            "memory usage: 18.9+ KB\n"
          ]
        }
      ],
      "source": [
        "penguins.info()"
      ]
    },
    {
      "cell_type": "markdown",
      "metadata": {
        "id": "46-IJ8xK08WS"
      },
      "source": [
        "<br>On the other hand, `DataFrame.describe()` provides summary statistics information about columns containing numerical values within our dataset! "
      ]
    },
    {
      "cell_type": "code",
      "execution_count": null,
      "metadata": {
        "colab": {
          "base_uri": "https://localhost:8080/",
          "height": 300
        },
        "id": "IEdYLhyj08WS",
        "outputId": "d165da80-60f6-41fa-dafd-255994123da3"
      },
      "outputs": [
        {
          "output_type": "execute_result",
          "data": {
            "text/plain": [
              "       bill_length_mm  bill_depth_mm  flipper_length_mm  body_mass_g\n",
              "count      342.000000     342.000000         342.000000   342.000000\n",
              "mean        43.921930      17.151170         200.915205  4201.754386\n",
              "std          5.459584       1.974793          14.061714   801.954536\n",
              "min         32.100000      13.100000         172.000000  2700.000000\n",
              "25%         39.225000      15.600000         190.000000  3550.000000\n",
              "50%         44.450000      17.300000         197.000000  4050.000000\n",
              "75%         48.500000      18.700000         213.000000  4750.000000\n",
              "max         59.600000      21.500000         231.000000  6300.000000"
            ],
            "text/html": [
              "\n",
              "  <div id=\"df-dc3c81b6-9be2-4705-a36f-467626df0cb6\">\n",
              "    <div class=\"colab-df-container\">\n",
              "      <div>\n",
              "<style scoped>\n",
              "    .dataframe tbody tr th:only-of-type {\n",
              "        vertical-align: middle;\n",
              "    }\n",
              "\n",
              "    .dataframe tbody tr th {\n",
              "        vertical-align: top;\n",
              "    }\n",
              "\n",
              "    .dataframe thead th {\n",
              "        text-align: right;\n",
              "    }\n",
              "</style>\n",
              "<table border=\"1\" class=\"dataframe\">\n",
              "  <thead>\n",
              "    <tr style=\"text-align: right;\">\n",
              "      <th></th>\n",
              "      <th>bill_length_mm</th>\n",
              "      <th>bill_depth_mm</th>\n",
              "      <th>flipper_length_mm</th>\n",
              "      <th>body_mass_g</th>\n",
              "    </tr>\n",
              "  </thead>\n",
              "  <tbody>\n",
              "    <tr>\n",
              "      <th>count</th>\n",
              "      <td>342.000000</td>\n",
              "      <td>342.000000</td>\n",
              "      <td>342.000000</td>\n",
              "      <td>342.000000</td>\n",
              "    </tr>\n",
              "    <tr>\n",
              "      <th>mean</th>\n",
              "      <td>43.921930</td>\n",
              "      <td>17.151170</td>\n",
              "      <td>200.915205</td>\n",
              "      <td>4201.754386</td>\n",
              "    </tr>\n",
              "    <tr>\n",
              "      <th>std</th>\n",
              "      <td>5.459584</td>\n",
              "      <td>1.974793</td>\n",
              "      <td>14.061714</td>\n",
              "      <td>801.954536</td>\n",
              "    </tr>\n",
              "    <tr>\n",
              "      <th>min</th>\n",
              "      <td>32.100000</td>\n",
              "      <td>13.100000</td>\n",
              "      <td>172.000000</td>\n",
              "      <td>2700.000000</td>\n",
              "    </tr>\n",
              "    <tr>\n",
              "      <th>25%</th>\n",
              "      <td>39.225000</td>\n",
              "      <td>15.600000</td>\n",
              "      <td>190.000000</td>\n",
              "      <td>3550.000000</td>\n",
              "    </tr>\n",
              "    <tr>\n",
              "      <th>50%</th>\n",
              "      <td>44.450000</td>\n",
              "      <td>17.300000</td>\n",
              "      <td>197.000000</td>\n",
              "      <td>4050.000000</td>\n",
              "    </tr>\n",
              "    <tr>\n",
              "      <th>75%</th>\n",
              "      <td>48.500000</td>\n",
              "      <td>18.700000</td>\n",
              "      <td>213.000000</td>\n",
              "      <td>4750.000000</td>\n",
              "    </tr>\n",
              "    <tr>\n",
              "      <th>max</th>\n",
              "      <td>59.600000</td>\n",
              "      <td>21.500000</td>\n",
              "      <td>231.000000</td>\n",
              "      <td>6300.000000</td>\n",
              "    </tr>\n",
              "  </tbody>\n",
              "</table>\n",
              "</div>\n",
              "      <button class=\"colab-df-convert\" onclick=\"convertToInteractive('df-dc3c81b6-9be2-4705-a36f-467626df0cb6')\"\n",
              "              title=\"Convert this dataframe to an interactive table.\"\n",
              "              style=\"display:none;\">\n",
              "        \n",
              "  <svg xmlns=\"http://www.w3.org/2000/svg\" height=\"24px\"viewBox=\"0 0 24 24\"\n",
              "       width=\"24px\">\n",
              "    <path d=\"M0 0h24v24H0V0z\" fill=\"none\"/>\n",
              "    <path d=\"M18.56 5.44l.94 2.06.94-2.06 2.06-.94-2.06-.94-.94-2.06-.94 2.06-2.06.94zm-11 1L8.5 8.5l.94-2.06 2.06-.94-2.06-.94L8.5 2.5l-.94 2.06-2.06.94zm10 10l.94 2.06.94-2.06 2.06-.94-2.06-.94-.94-2.06-.94 2.06-2.06.94z\"/><path d=\"M17.41 7.96l-1.37-1.37c-.4-.4-.92-.59-1.43-.59-.52 0-1.04.2-1.43.59L10.3 9.45l-7.72 7.72c-.78.78-.78 2.05 0 2.83L4 21.41c.39.39.9.59 1.41.59.51 0 1.02-.2 1.41-.59l7.78-7.78 2.81-2.81c.8-.78.8-2.07 0-2.86zM5.41 20L4 18.59l7.72-7.72 1.47 1.35L5.41 20z\"/>\n",
              "  </svg>\n",
              "      </button>\n",
              "      \n",
              "  <style>\n",
              "    .colab-df-container {\n",
              "      display:flex;\n",
              "      flex-wrap:wrap;\n",
              "      gap: 12px;\n",
              "    }\n",
              "\n",
              "    .colab-df-convert {\n",
              "      background-color: #E8F0FE;\n",
              "      border: none;\n",
              "      border-radius: 50%;\n",
              "      cursor: pointer;\n",
              "      display: none;\n",
              "      fill: #1967D2;\n",
              "      height: 32px;\n",
              "      padding: 0 0 0 0;\n",
              "      width: 32px;\n",
              "    }\n",
              "\n",
              "    .colab-df-convert:hover {\n",
              "      background-color: #E2EBFA;\n",
              "      box-shadow: 0px 1px 2px rgba(60, 64, 67, 0.3), 0px 1px 3px 1px rgba(60, 64, 67, 0.15);\n",
              "      fill: #174EA6;\n",
              "    }\n",
              "\n",
              "    [theme=dark] .colab-df-convert {\n",
              "      background-color: #3B4455;\n",
              "      fill: #D2E3FC;\n",
              "    }\n",
              "\n",
              "    [theme=dark] .colab-df-convert:hover {\n",
              "      background-color: #434B5C;\n",
              "      box-shadow: 0px 1px 3px 1px rgba(0, 0, 0, 0.15);\n",
              "      filter: drop-shadow(0px 1px 2px rgba(0, 0, 0, 0.3));\n",
              "      fill: #FFFFFF;\n",
              "    }\n",
              "  </style>\n",
              "\n",
              "      <script>\n",
              "        const buttonEl =\n",
              "          document.querySelector('#df-dc3c81b6-9be2-4705-a36f-467626df0cb6 button.colab-df-convert');\n",
              "        buttonEl.style.display =\n",
              "          google.colab.kernel.accessAllowed ? 'block' : 'none';\n",
              "\n",
              "        async function convertToInteractive(key) {\n",
              "          const element = document.querySelector('#df-dc3c81b6-9be2-4705-a36f-467626df0cb6');\n",
              "          const dataTable =\n",
              "            await google.colab.kernel.invokeFunction('convertToInteractive',\n",
              "                                                     [key], {});\n",
              "          if (!dataTable) return;\n",
              "\n",
              "          const docLinkHtml = 'Like what you see? Visit the ' +\n",
              "            '<a target=\"_blank\" href=https://colab.research.google.com/notebooks/data_table.ipynb>data table notebook</a>'\n",
              "            + ' to learn more about interactive tables.';\n",
              "          element.innerHTML = '';\n",
              "          dataTable['output_type'] = 'display_data';\n",
              "          await google.colab.output.renderOutput(dataTable, element);\n",
              "          const docLink = document.createElement('div');\n",
              "          docLink.innerHTML = docLinkHtml;\n",
              "          element.appendChild(docLink);\n",
              "        }\n",
              "      </script>\n",
              "    </div>\n",
              "  </div>\n",
              "  "
            ]
          },
          "metadata": {},
          "execution_count": 4
        }
      ],
      "source": [
        "penguins.describe()"
      ]
    },
    {
      "cell_type": "markdown",
      "metadata": {
        "id": "aZqQuw4F08WS"
      },
      "source": [
        "Here, you can see that we were able to calculate the number of entries (`count`) within our columns, the `mean`, the standard deviation (`std`), the minimum value (`min`), the different percentiles, and the maximum value (`max`) for the columns in the Palmer Penguins dataset containing numerical values. Because the `species`, `island`, and `sex` columns within the dataset aren't numerical values, we don't calculate anything for them. "
      ]
    },
    {
      "cell_type": "markdown",
      "metadata": {
        "id": "uscsc9zB08WS"
      },
      "source": [
        "### Viewing the Dimensions of a `DataFrame` with the `shape` Attribute \n",
        "\n",
        "The `DataFrame.shape` command shows how many rows and columns we have."
      ]
    },
    {
      "cell_type": "code",
      "execution_count": null,
      "metadata": {
        "colab": {
          "base_uri": "https://localhost:8080/"
        },
        "id": "mHZLe8j408WS",
        "outputId": "45b3114a-db62-4af1-ccba-33f12c38e956"
      },
      "outputs": [
        {
          "output_type": "execute_result",
          "data": {
            "text/plain": [
              "(344, 7)"
            ]
          },
          "metadata": {},
          "execution_count": 5
        }
      ],
      "source": [
        "penguins.shape"
      ]
    },
    {
      "cell_type": "markdown",
      "metadata": {
        "id": "-clHZobg08WT"
      },
      "source": [
        "### Previewing a `DataFrame` with the `head()` and `tail()` Methods\n",
        "\n",
        "View the first 5 rows with `DataFrame.head()`."
      ]
    },
    {
      "cell_type": "code",
      "execution_count": null,
      "metadata": {
        "colab": {
          "base_uri": "https://localhost:8080/",
          "height": 206
        },
        "id": "LD27dSIj08WT",
        "outputId": "aa5c8933-ed80-4e36-e2ae-63df3bf407ab"
      },
      "outputs": [
        {
          "output_type": "execute_result",
          "data": {
            "text/plain": [
              "  species     island  bill_length_mm  bill_depth_mm  flipper_length_mm  \\\n",
              "0  Adelie  Torgersen            39.1           18.7              181.0   \n",
              "1  Adelie  Torgersen            39.5           17.4              186.0   \n",
              "2  Adelie  Torgersen            40.3           18.0              195.0   \n",
              "3  Adelie  Torgersen             NaN            NaN                NaN   \n",
              "4  Adelie  Torgersen            36.7           19.3              193.0   \n",
              "\n",
              "   body_mass_g     sex  \n",
              "0       3750.0    Male  \n",
              "1       3800.0  Female  \n",
              "2       3250.0  Female  \n",
              "3          NaN     NaN  \n",
              "4       3450.0  Female  "
            ],
            "text/html": [
              "\n",
              "  <div id=\"df-20e5e768-0398-4e76-8530-fe998971b44e\">\n",
              "    <div class=\"colab-df-container\">\n",
              "      <div>\n",
              "<style scoped>\n",
              "    .dataframe tbody tr th:only-of-type {\n",
              "        vertical-align: middle;\n",
              "    }\n",
              "\n",
              "    .dataframe tbody tr th {\n",
              "        vertical-align: top;\n",
              "    }\n",
              "\n",
              "    .dataframe thead th {\n",
              "        text-align: right;\n",
              "    }\n",
              "</style>\n",
              "<table border=\"1\" class=\"dataframe\">\n",
              "  <thead>\n",
              "    <tr style=\"text-align: right;\">\n",
              "      <th></th>\n",
              "      <th>species</th>\n",
              "      <th>island</th>\n",
              "      <th>bill_length_mm</th>\n",
              "      <th>bill_depth_mm</th>\n",
              "      <th>flipper_length_mm</th>\n",
              "      <th>body_mass_g</th>\n",
              "      <th>sex</th>\n",
              "    </tr>\n",
              "  </thead>\n",
              "  <tbody>\n",
              "    <tr>\n",
              "      <th>0</th>\n",
              "      <td>Adelie</td>\n",
              "      <td>Torgersen</td>\n",
              "      <td>39.1</td>\n",
              "      <td>18.7</td>\n",
              "      <td>181.0</td>\n",
              "      <td>3750.0</td>\n",
              "      <td>Male</td>\n",
              "    </tr>\n",
              "    <tr>\n",
              "      <th>1</th>\n",
              "      <td>Adelie</td>\n",
              "      <td>Torgersen</td>\n",
              "      <td>39.5</td>\n",
              "      <td>17.4</td>\n",
              "      <td>186.0</td>\n",
              "      <td>3800.0</td>\n",
              "      <td>Female</td>\n",
              "    </tr>\n",
              "    <tr>\n",
              "      <th>2</th>\n",
              "      <td>Adelie</td>\n",
              "      <td>Torgersen</td>\n",
              "      <td>40.3</td>\n",
              "      <td>18.0</td>\n",
              "      <td>195.0</td>\n",
              "      <td>3250.0</td>\n",
              "      <td>Female</td>\n",
              "    </tr>\n",
              "    <tr>\n",
              "      <th>3</th>\n",
              "      <td>Adelie</td>\n",
              "      <td>Torgersen</td>\n",
              "      <td>NaN</td>\n",
              "      <td>NaN</td>\n",
              "      <td>NaN</td>\n",
              "      <td>NaN</td>\n",
              "      <td>NaN</td>\n",
              "    </tr>\n",
              "    <tr>\n",
              "      <th>4</th>\n",
              "      <td>Adelie</td>\n",
              "      <td>Torgersen</td>\n",
              "      <td>36.7</td>\n",
              "      <td>19.3</td>\n",
              "      <td>193.0</td>\n",
              "      <td>3450.0</td>\n",
              "      <td>Female</td>\n",
              "    </tr>\n",
              "  </tbody>\n",
              "</table>\n",
              "</div>\n",
              "      <button class=\"colab-df-convert\" onclick=\"convertToInteractive('df-20e5e768-0398-4e76-8530-fe998971b44e')\"\n",
              "              title=\"Convert this dataframe to an interactive table.\"\n",
              "              style=\"display:none;\">\n",
              "        \n",
              "  <svg xmlns=\"http://www.w3.org/2000/svg\" height=\"24px\"viewBox=\"0 0 24 24\"\n",
              "       width=\"24px\">\n",
              "    <path d=\"M0 0h24v24H0V0z\" fill=\"none\"/>\n",
              "    <path d=\"M18.56 5.44l.94 2.06.94-2.06 2.06-.94-2.06-.94-.94-2.06-.94 2.06-2.06.94zm-11 1L8.5 8.5l.94-2.06 2.06-.94-2.06-.94L8.5 2.5l-.94 2.06-2.06.94zm10 10l.94 2.06.94-2.06 2.06-.94-2.06-.94-.94-2.06-.94 2.06-2.06.94z\"/><path d=\"M17.41 7.96l-1.37-1.37c-.4-.4-.92-.59-1.43-.59-.52 0-1.04.2-1.43.59L10.3 9.45l-7.72 7.72c-.78.78-.78 2.05 0 2.83L4 21.41c.39.39.9.59 1.41.59.51 0 1.02-.2 1.41-.59l7.78-7.78 2.81-2.81c.8-.78.8-2.07 0-2.86zM5.41 20L4 18.59l7.72-7.72 1.47 1.35L5.41 20z\"/>\n",
              "  </svg>\n",
              "      </button>\n",
              "      \n",
              "  <style>\n",
              "    .colab-df-container {\n",
              "      display:flex;\n",
              "      flex-wrap:wrap;\n",
              "      gap: 12px;\n",
              "    }\n",
              "\n",
              "    .colab-df-convert {\n",
              "      background-color: #E8F0FE;\n",
              "      border: none;\n",
              "      border-radius: 50%;\n",
              "      cursor: pointer;\n",
              "      display: none;\n",
              "      fill: #1967D2;\n",
              "      height: 32px;\n",
              "      padding: 0 0 0 0;\n",
              "      width: 32px;\n",
              "    }\n",
              "\n",
              "    .colab-df-convert:hover {\n",
              "      background-color: #E2EBFA;\n",
              "      box-shadow: 0px 1px 2px rgba(60, 64, 67, 0.3), 0px 1px 3px 1px rgba(60, 64, 67, 0.15);\n",
              "      fill: #174EA6;\n",
              "    }\n",
              "\n",
              "    [theme=dark] .colab-df-convert {\n",
              "      background-color: #3B4455;\n",
              "      fill: #D2E3FC;\n",
              "    }\n",
              "\n",
              "    [theme=dark] .colab-df-convert:hover {\n",
              "      background-color: #434B5C;\n",
              "      box-shadow: 0px 1px 3px 1px rgba(0, 0, 0, 0.15);\n",
              "      filter: drop-shadow(0px 1px 2px rgba(0, 0, 0, 0.3));\n",
              "      fill: #FFFFFF;\n",
              "    }\n",
              "  </style>\n",
              "\n",
              "      <script>\n",
              "        const buttonEl =\n",
              "          document.querySelector('#df-20e5e768-0398-4e76-8530-fe998971b44e button.colab-df-convert');\n",
              "        buttonEl.style.display =\n",
              "          google.colab.kernel.accessAllowed ? 'block' : 'none';\n",
              "\n",
              "        async function convertToInteractive(key) {\n",
              "          const element = document.querySelector('#df-20e5e768-0398-4e76-8530-fe998971b44e');\n",
              "          const dataTable =\n",
              "            await google.colab.kernel.invokeFunction('convertToInteractive',\n",
              "                                                     [key], {});\n",
              "          if (!dataTable) return;\n",
              "\n",
              "          const docLinkHtml = 'Like what you see? Visit the ' +\n",
              "            '<a target=\"_blank\" href=https://colab.research.google.com/notebooks/data_table.ipynb>data table notebook</a>'\n",
              "            + ' to learn more about interactive tables.';\n",
              "          element.innerHTML = '';\n",
              "          dataTable['output_type'] = 'display_data';\n",
              "          await google.colab.output.renderOutput(dataTable, element);\n",
              "          const docLink = document.createElement('div');\n",
              "          docLink.innerHTML = docLinkHtml;\n",
              "          element.appendChild(docLink);\n",
              "        }\n",
              "      </script>\n",
              "    </div>\n",
              "  </div>\n",
              "  "
            ]
          },
          "metadata": {},
          "execution_count": 6
        }
      ],
      "source": [
        "penguins.head()"
      ]
    },
    {
      "cell_type": "markdown",
      "metadata": {
        "id": "wOV1LQNp08WT"
      },
      "source": [
        "View the last 5 rows with `DataFrame.tail()`."
      ]
    },
    {
      "cell_type": "code",
      "execution_count": null,
      "metadata": {
        "id": "MVEsv_wd08WT"
      },
      "outputs": [],
      "source": [
        "penguins.tail()"
      ]
    },
    {
      "cell_type": "markdown",
      "metadata": {
        "id": "4UxGX-m908WT"
      },
      "source": [
        "<div class=\"alert alert-block alert-info\">\n",
        "    <p>The <code>DataFrame.head()</code> and <code>DataFrame.tail()</code> methods also take integers as input to specify the <strong>number of rows from the beginning or end of the dataset you would like to preview</strong>. For example, the command <code>penguins.head(10)</code> would allow us to preview the first 10 rows of the dataset instead of the 5 rows that we saw when we didn't provide an integer as input.</p>\n",
        "</div>\n",
        "\n",
        "---\n",
        "\n",
        "## Evaluating Missing or Null or `NaN` Values in our `DataFrame` \n",
        "\n",
        "After previewing the Palmer Penguins dataset, we can see that there are a couple of missing values denoted as `NaN` in our data. It is always a good idea to check for missing values before continuing with our analysis. Within this section of the notebook, we'll be using the following commands to **clean** or remove these data points with null values from our dataset:\n",
        "\n",
        "* The `DataFrame.isna()` method will help us detect rows (data points) that have a `NaN` or missing value in one of its columns\n",
        "* The `DataFrame.dropna()` method will help us drop/remove these rows containing `NaN` or missing values from our dataset"
      ]
    },
    {
      "cell_type": "code",
      "execution_count": null,
      "metadata": {
        "id": "wuoZTAQo08WU"
      },
      "outputs": [],
      "source": [
        "# First, detect cells within our DataFrame that contain NaN/missing values \n",
        "penguins.isna()"
      ]
    },
    {
      "cell_type": "markdown",
      "metadata": {
        "id": "iQAxUvBi08WU"
      },
      "source": [
        "<div class=\"alert alert-block alert-info\">\n",
        "    <p>The <code>DataFrame.isna()</code> method will show you the cells within your dataset that have missing values by either filling the cell with a <code>True</code> if the value in the cell is a <code>NaN</code> or missing, and <code>False</code> if the value in the cell is <strong>not <code>NaN</code> and not missing</strong>. Since this is kind of hard to read, we can do some more commands to digest what's going on and how many missing values we actually have in our dataset!</p>\n",
        "</div>\n",
        "\n",
        "Since the output from the `DataFrame.isna()` command is hard to read, we can use **both** the `DataFrame.isna()` and the `sum()` functions to calculate the number of `NaN` or missing values we have in each of our columns! "
      ]
    },
    {
      "cell_type": "code",
      "execution_count": null,
      "metadata": {
        "id": "dsCAXDo308WU"
      },
      "outputs": [],
      "source": [
        "# Next, let's determine the total number of NaN/missing values within our dataset with the sum() function...\n",
        "# We can use the isna() function like before, but then redirect the output from that function into the sum() function right afterwards!\n",
        "penguins.isna().sum()"
      ]
    },
    {
      "cell_type": "markdown",
      "metadata": {
        "id": "68jH4g5m08WU"
      },
      "source": [
        "From this output, we can see that there are `NaN` values present in the `bill_length_mm`, `bill_depth_mm`, `flipper_length_mm`, `body_mass_g`, and `sex` columns of our dataset: they have 2, 2, 2, 2, and 11 values missing in their columns, respectively. \n",
        "\n",
        "### Removing Rows with Missing Values from a `DataFrame` with the `dropna()` Method\n",
        "\n",
        "Let's go ahead and remove samples (rows) with missing values using `DataFrame.dropna()`."
      ]
    },
    {
      "cell_type": "code",
      "execution_count": null,
      "metadata": {
        "id": "MmZlll2408WV"
      },
      "outputs": [],
      "source": [
        "# Let's remove rows in our dataset that have missing values in one or more of the columns with dropna()\n",
        "penguins.dropna()"
      ]
    },
    {
      "cell_type": "markdown",
      "metadata": {
        "id": "Bod2WqAf08WV"
      },
      "source": [
        "After running this method, we can see in the bottom-left that we have **333 penguin samples** instead of the original **344 penguin samples**. \n",
        "\n",
        "Remember to save this to a variable! The convention is to re-save this to the same variable `penguins` and ignore missing values for now!"
      ]
    },
    {
      "cell_type": "code",
      "execution_count": null,
      "metadata": {
        "id": "lSAyt2OB08WV"
      },
      "outputs": [],
      "source": [
        "# Let's print out the shape of the DataFrame before and after removing rows with missing information\n",
        "# so that we can see if a change was actually made to our variable! \n",
        "print(f\"The shape of the DataFrame before removing rows with NaN values: {penguins.shape}\") \n",
        "\n",
        "penguins = penguins.dropna() # run the same command as before BUT with saving it to a variable\n",
        "\n",
        "# Print out the shape of the DataFrame after our modification...\n",
        "print(f\"The shape of the DataFrame after removing rows with NaN values: {penguins.shape}\")"
      ]
    },
    {
      "cell_type": "markdown",
      "metadata": {
        "id": "KTE3f2_C08WV"
      },
      "source": [
        "<div class=\"alert alert-block alert-info\">\n",
        "    <p>By default, the <code>DataFrame.dropna()</code> method drops rows with <code>NaN</code> values by default, but it can also be used to remove columns by specifying the <code>axis</code> parameter as <code>1</code> (e.g., <code>penguins.dropna(axis=1)</code> would drop columns in the Palmer Penguins dataset that have <code>NaN</code> values present).</p>\n",
        "</div>\n",
        "\n",
        "---\n",
        "\n",
        "## Visualizations of Data with Built-In `pandas` Plotting Functions and the `seaborn` Package\n",
        "\n",
        "It's always good practice to have a rough idea of how your data \"looks\" or how is distributed before you start analyzing it! We can do this by visualizing the distribution for each variable (e.g., the penguin's bill length, named `bill_length_mm` in our dataset). Within this section, we'll be doing several things:\n",
        "\n",
        "* Learning how to access certain columns in our `DataFrame` using the bracket notation \n",
        "* Generate basic plots using the `pandas` method called `Series.plot()` \n",
        "    * Generating histograms with `kind=\"hist\"` as a method parameter\n",
        "    * Generating histograms with `kind=\"scatter\"` as a method parameter\n",
        "* Generating plots across all numerical values with the `seaborn` method called `sns.pairplot()`"
      ]
    },
    {
      "cell_type": "markdown",
      "metadata": {
        "id": "vs2jwaTz08WV"
      },
      "source": [
        "### Accessing Columns of a `DataFrame` with Bracket Notation"
      ]
    },
    {
      "cell_type": "code",
      "execution_count": null,
      "metadata": {
        "id": "tZ7e7liL08WV"
      },
      "outputs": [],
      "source": [
        "# In pandas, we can access certain columns using brackets \n",
        "# and then put the name of the column we want to acess as a string inside\n",
        "#     e.g., penguins[\"column_name_like_this\"]\n",
        "\n",
        "# For example, let's access the bill length column (called bill_length_mm) for the penguins dataset!\n",
        "penguins[\"bill_length_mm\"]"
      ]
    },
    {
      "cell_type": "markdown",
      "metadata": {
        "id": "UY-NqvrL08WW"
      },
      "source": [
        "From this output, we can see that we were able to successfully access the bill lengths of all the penguins in our dataset! \n",
        "\n",
        "<div class=\"alert alert-block alert-info\">\n",
        "    <p>When we access columns in a <code>DataFrame</code> using this notation, the column is <strong>not</strong> returned as a <code>DataFrame</code> but instead as a <code>Series</code> object instead! You can think of a <code>pandas</code> <code>Series</code> as a list of items instead of the table-like structure that <code>DataFrame</code> objects provide. \n",
        "</div>"
      ]
    },
    {
      "cell_type": "markdown",
      "metadata": {
        "id": "w_BLcsBR08WW"
      },
      "source": [
        "### Visualizing Data using Built-In `pandas` Plotting Functions\n",
        "\n",
        "Within this section, we'll cover two common ways of visualizing biological data: \n",
        "\n",
        "* *Histograms* are an approximate representation of the distribution of numerical data;<br>they're a special form of bar chart where the data is continuous, so each bar is the frequency of occurences for data points that fit within a certain \"bin\" \n",
        "* *Scatterplots* are a diagram that use Cartesian coordinates to display values for two variables in a dataset (usually);<br>the position of each dot on the horizontal and vertical axes represents the values for an individual data point\n",
        "\n",
        "Luckily, `pandas` has a built-in plotting function that we can use to generate basic plots based on the information in our `DataFrame`: it's under the method `pandas.plot()`. This `plot()` method has a parameter called `kind` that we can set to the type of plot we wish to generate! \n",
        "\n",
        "<div class=\"alert alert-block alert-info\">\n",
        "    <p>Depending on what you want to visualize, you can use the <code>plot()</code> function on either a <code>pandas</code> <code>DataFrame</code> or <code>Series</code> object.</p>\n",
        "</div>\n",
        "\n",
        "#### Generating a Histogram with the `pandas` `plot()` Function\n",
        "\n",
        "Let's use a histogram to visualize the distirbution of different penguin bill lengths within our dataset!"
      ]
    },
    {
      "cell_type": "code",
      "execution_count": null,
      "metadata": {
        "id": "97vtTo8U08WW"
      },
      "outputs": [],
      "source": [
        "# First, we can access the bill length column within our dataframe,\n",
        "# then right after it, we can plot the information using the plot() method while specifiying that we want to see a hist-ogram! \n",
        "penguins[\"bill_length_mm\"].plot(kind=\"hist\")"
      ]
    },
    {
      "cell_type": "markdown",
      "metadata": {
        "id": "I7ihpQBy08WW"
      },
      "source": [
        "That seemed to work! Let's pick another variable and visualize it with the `plot()` function! "
      ]
    },
    {
      "cell_type": "markdown",
      "metadata": {
        "id": "vl_sYIEp08WW"
      },
      "source": [
        "<div class=\"alert alert-block alert-success\">\n",
        "    <p><b>Exercise:</b> Create a command in the code cell below to generate a histogram for penguin bill depth.</p>\n",
        "</div>"
      ]
    },
    {
      "cell_type": "code",
      "execution_count": null,
      "metadata": {
        "id": "NRD1b0J408WW"
      },
      "outputs": [],
      "source": [
        "# !TODO"
      ]
    },
    {
      "cell_type": "markdown",
      "metadata": {
        "id": "SaNE_A7r08WX"
      },
      "source": [
        "#### Generating a Scatter Plot with the `pandas` `plot()` Function\n",
        "\n",
        "Let's use a scatter plot to visualize different penguin bill lengths versus penguin bill depths within our dataset!"
      ]
    },
    {
      "cell_type": "code",
      "execution_count": null,
      "metadata": {
        "id": "5N_gywMq08WX"
      },
      "outputs": [],
      "source": [
        "# Within this example, we'll run the plot() function on the penguins DataFrame object itself instead of specifying a specific column\n",
        "# Then, within the plot() function, we'll specify the kind of plot as a scatter-plot and then what we want our x and y axes to represent! \n",
        "penguins.plot(kind=\"scatter\", x=\"bill_length_mm\", y=\"bill_depth_mm\")"
      ]
    },
    {
      "cell_type": "markdown",
      "metadata": {
        "id": "e4wwmRZf08WX"
      },
      "source": [
        "<div class=\"alert alert-block alert-success\">\n",
        "    <p><b>Exercise:</b> Create a command in the code cell below to generate a scatter plot for penguin flipper length versus penguin body mass.</p>\n",
        "</div>"
      ]
    },
    {
      "cell_type": "code",
      "execution_count": null,
      "metadata": {
        "id": "YD3NQlb008WX"
      },
      "outputs": [],
      "source": [
        "# !TODO"
      ]
    },
    {
      "cell_type": "markdown",
      "metadata": {
        "id": "4Ky3P3ea08WX"
      },
      "source": [
        "### Using `seaborn` to Quickly Visualize All Variables at Once with `sns.pairplot()`"
      ]
    },
    {
      "cell_type": "markdown",
      "metadata": {
        "id": "XJxU2q8k08WX"
      },
      "source": [
        "Turns out we can visualize all the variables at once with the handy function `sns.pairplot()`!\n",
        "\n",
        "Just like we did above with one or two variables, `sns.pairplot()` plots all variables as histograms on the diagonal, while the other plots are scatter plots showing all pairwise relationships between variables. The x and y axes are shared across plots."
      ]
    },
    {
      "cell_type": "code",
      "execution_count": null,
      "metadata": {
        "id": "fmC8lQ6k08WX"
      },
      "outputs": [],
      "source": [
        "# setting corner=True turns off the redundant plots in the upper right triangle of the matrix\n",
        "sns.pairplot(penguins, corner=True) "
      ]
    },
    {
      "cell_type": "markdown",
      "metadata": {
        "id": "n22l_I3R08WY"
      },
      "source": [
        "With `sns.pairplot()` visualizing the distributions for things was a whole lot easier! On the diagonal, we can see the different histograms for each of our variables, and then for everything not on the diagonal, we can see how different variables plot against each other (e.g., on the bottom row, we can see `body_mass_g` versus `bill_length_mm`, `bill_depth_mm`, and finally, `flipper_length_mm`. "
      ]
    },
    {
      "cell_type": "markdown",
      "metadata": {
        "id": "uS5O_lZ508WY"
      },
      "source": [
        "---\n",
        "\n",
        "![image.png](attachment:672e6850-faa1-4694-8432-f3af10d8dc1d.png)\n",
        "\n",
        "<div class=\"alert alert-block alert-danger\">\n",
        "    <b>Let's go back to the lecture presentation before delving into the next few blocks of code!</b> \n",
        "</div>\n",
        "\n"
      ]
    },
    {
      "cell_type": "markdown",
      "metadata": {
        "id": "xExyZRaA08WY"
      },
      "source": [
        "# 2. Descriptive Statistics\n",
        "\n",
        "Now that we have a handle on how to explore datasets in Python using `pandas`, let's go back to our lesson on Descriptive Statistics! \n",
        "\n",
        "> Remember, it's usually not possible to collect observations on every member of the population. For example, if we wanted to study wingspan of penguins, it's really difficult to measure the wingspan of **every single penguin on the face of the Earth**! Fortunately, we can take a *sample* of the total *population*, assuming that our sample is a decent representation of what we want to study! Therefore, the **sample** mean, variance, and standard deviation are *estimates* of the true population mean, variance, and standard deviation! \n",
        "\n",
        "Within this portion of the notebook, we'll be learning about the normal distribution and its characteristics by using some of the concepts from Descriptive Statistics. \n",
        "\n",
        "## The Normal Distribution \n",
        "\n",
        "Empirical data often follows or approximates a bell-shaped distribution, or normal distribution especially when sample size increases. \n",
        "\n",
        "<img alt=\"Normal Distribution Image\" src=\"https://github.com/biom262/cmm262-2021/raw/main/module-2-statistics/img/day1_norm-dist.png\">\n",
        "\n",
        "Looking at the pairplot above, do any of the variables resemble this shape? The image above is a representation of the normal distribution! \n",
        "\n",
        "---"
      ]
    },
    {
      "cell_type": "markdown",
      "metadata": {
        "id": "VeF8BhxT08WY"
      },
      "source": [
        "### Import the Packages We'll be Using in this Portion of the Notebook\n",
        "\n",
        "For this portion of the notebook, we'll be importing another plotting library called `matplotlib.pyplot` to visualize our data. We'll also be importing a package called `numpy` to perform some numerical operations later on! "
      ]
    },
    {
      "cell_type": "code",
      "execution_count": null,
      "metadata": {
        "id": "U3wz08XI08WY"
      },
      "outputs": [],
      "source": [
        "# Load submodule pyplot from matplotlib using \"plt\" as the shorthand\n",
        "import matplotlib.pyplot as plt\n",
        "\n",
        "# Load numpy package using \"np\" as the shorthand\n",
        "import numpy as np"
      ]
    },
    {
      "cell_type": "markdown",
      "metadata": {
        "id": "oh0ctMTR08WY"
      },
      "source": [
        "---\n",
        "\n",
        "## The Mean and Median\n",
        "\n",
        "Let's inspect our sample's body mass distribution and calculate the mean and median of our data points! \n",
        "\n",
        "To make things easier, we can access the `body_mass_g` column of our Palmer Penguins dataset and save the values to a variable called `mass`. "
      ]
    },
    {
      "cell_type": "code",
      "execution_count": null,
      "metadata": {
        "id": "F169NwGz08WY"
      },
      "outputs": [],
      "source": [
        "mass = penguins[\"body_mass_g\"] # saves the body mass values to the mass variable"
      ]
    },
    {
      "cell_type": "markdown",
      "metadata": {
        "id": "HqeDKDcF08WZ"
      },
      "source": [
        "Now, let's calculate the **mean** and **median** of the penguin body masses using the built-in `pandas` functions: \n",
        "\n",
        "* `Series.mean()` will calculate the mean of a set of values for us\n",
        "* `Series.median()` will calculate the median of a set of values for us \n",
        "\n",
        "<div class=\"alert alert-block alert-info\">\n",
        "    <p>Remember, we have to replace the <code>Series</code> with the specific column of the dataset we want to evaluate (e.g., <code>penguins[\"body_mass_g\"].mean()</code> will calculate the mean of the <code>body_mass_g</code> column of the <code>DataFrame</code> referenced by the <code>penguins</code> variable, just as <code>mass.mean()</code> will also calculate the mean since <code>mass = penguins[\"body_mass_g\"]</code>).</p>\n",
        "</div>"
      ]
    },
    {
      "cell_type": "code",
      "execution_count": null,
      "metadata": {
        "id": "2ZS2zJAV08WZ"
      },
      "outputs": [],
      "source": [
        "# Calculate mean and save to variable `mass_mean`\n",
        "mass_mean = mass.mean()\n",
        "\n",
        "# Calculate nedian and save to variable `mass_median`\n",
        "mass_median = mass.median()\n",
        "\n",
        "# Let's print what these values are! \n",
        "print(f\"The mean body mass is: {mass_mean}\")\n",
        "print(f\"The median body mass is: {mass_median}\")"
      ]
    },
    {
      "cell_type": "markdown",
      "metadata": {
        "id": "tjaDiT4208WZ"
      },
      "source": [
        "Finally, let's plot a histogram of the distribution of body masses using the `sns.histplot()` function found in the `seaborn` package! We'll also plot where the mean and median are on this distribution using the `plt.avxline()` function from `matplotlib.pyplot`. \n",
        "\n",
        "<div class=\"alert alert-block alert-warning\">\n",
        "    <p>You can also use the <code>pandas.plot(kind=\"hist\")</code> function if you'd like, but this function is prettier and the TAs are a little biased towards <code>seaborn</code>...</p>\n",
        "</div>"
      ]
    },
    {
      "cell_type": "code",
      "execution_count": null,
      "metadata": {
        "id": "fYQg2Som08WZ"
      },
      "outputs": [],
      "source": [
        "# Generate a histogram of the masses stored in the mass variable using the histplot() function! \n",
        "sns.histplot(mass)\n",
        "\n",
        "# Draw vertical red line at the mean\n",
        "plt.axvline(mass_mean, color=\"red\")\n",
        "\n",
        "# Draw vertical blue line at the median\n",
        "plt.axvline(mass_median, color=\"blue\")"
      ]
    },
    {
      "cell_type": "markdown",
      "metadata": {
        "id": "Xm-D3hyG08WZ"
      },
      "source": [
        "### What's the General Takeaway? \n",
        "\n",
        "Generally, for **symmetric** distributions, the **mean and median are equal**. \n",
        "\n",
        "However, when looking at the body mass distributions of our penguins, is it symmetric? Notice that the mean is shifted to the right of the median. Can we say that the body masses of penguins in our sample are normally distributed? \n",
        "\n",
        "In general, if the histogram has a tail on one side (or the distribution is **skewed**), then **the mean is pulled away from the median in the direction of the tail**.\n",
        "\n",
        "### Let's do a quick exercise to practice what we just did in the last section! \n",
        "\n",
        "<div class=\"alert alert-block alert-success\">\n",
        "    <p><b>Exercise:</b> <i>Let's examine the flipper length and see what conclusions we can make about the distribution!</i></p>\n",
        "    <p>Plot the histogram of the flipper length and draw lines for the mean and median. Is flipper length roughly normally distributed? Justify your answer.</p>\n",
        "</div>"
      ]
    },
    {
      "cell_type": "code",
      "execution_count": null,
      "metadata": {
        "id": "1iXnI59a08WZ"
      },
      "outputs": [],
      "source": [
        "# !TODO\n",
        "\n",
        "# 1. Define a new variable called flipper_length with the flipper lengths of the Palmer Penguins dataset \n",
        "flipper_length = None \n",
        "\n",
        "# 2. Plot a histogram of the flipper lengths using the variable you just created \n",
        "#    then also plot the mean and median flipper lengths that we have in our dataset \n"
      ]
    },
    {
      "cell_type": "markdown",
      "metadata": {
        "id": "tTDilKwM08WZ"
      },
      "source": [
        "---\n",
        "\n",
        "## The Standard Deviation and Z-Scores\n",
        "\n",
        "### Spotting the Standard Deviation on a Normal Curve \n",
        "\n",
        "To see how the standard deviation is related to the curve, start at the top of the curve and look towards the right. Notice that there is a place where the curve changes from looking like an \"upside-down cup\" to a \"right-way-up cup\"; formally, the curve has a **point of inflection**. That point is one standard deviation above the average. It is the point `z=1`, which is \"the average plus 1 standard deviation\".\n",
        "\n",
        "Symmetrically on the left-hand side of the mean, the point of inflection is at `z=−1`, that is, \"the average minus 1 standard deviation\".\n",
        "\n",
        "The **z-score** is a commonly used way to describe \"average ± **Z** standard deviations\".\n",
        "\n",
        "In general, **for bell-shaped distributions, the SD is the distance between the mean and the points of inflection on either side.**\n",
        "\n",
        "### Sampling from the Normal Distribution to Visualize Standard Deviation\n",
        "\n",
        "To visualize the phenomena that we just talked about, let's draw some samples from a normal distribution and then plot the distribution against its mean and standard deviations! We'll be doing the following steps: \n",
        "\n",
        "1. Sampling from a normal distribution using the `numpy` method `np.random.normal()` for 10,000 points\n",
        "2. Plotting the normal distribution as a kernel density estimation plot using the `seaborn` method `sns.kdeplot()` \n",
        "3. Plotting the mean of the sampled distribution using the `matplotlib.pyplot` method `plt.axvline()`\n",
        "4. Plotting +1 and -1 standard deviations above this mean using the `matplotlib.pyplot` method `plt.axvline()` \n",
        "5. Labeling our x-axis with the `matplotlib.pyplot` method `plt.xlabel()` to indicate that this axis represents the z-score "
      ]
    },
    {
      "cell_type": "code",
      "execution_count": null,
      "metadata": {
        "id": "CqlBLXgb08Wa"
      },
      "outputs": [],
      "source": [
        "# Draw 10,000 samples from a normally distributed distribution.\n",
        "normal_data = np.random.normal(size=10000)"
      ]
    },
    {
      "cell_type": "code",
      "execution_count": null,
      "metadata": {
        "id": "MeL4vbl808Wa"
      },
      "outputs": [],
      "source": [
        "# Calculate -1 and +1 standard deviation\n",
        "minus1sd = normal_data.mean() - normal_data.std()\n",
        "plus1sd  = normal_data.mean() + normal_data.std()"
      ]
    },
    {
      "cell_type": "code",
      "execution_count": null,
      "metadata": {
        "id": "JBgtiu4608Wa"
      },
      "outputs": [],
      "source": [
        "# Plot the distribution using the sns.kdeplot() method \n",
        "sns.kdeplot(normal_data, bw_adjust=2, fill=True)\n",
        "\n",
        "# Plot the mean as a red line\n",
        "plt.axvline(normal_data.mean(), color=\"red\")\n",
        "\n",
        "# Plot ± 1 SD as blue lines\n",
        "plt.axvline(minus1sd, color=\"blue\")\n",
        "plt.axvline(plus1sd, color=\"blue\")\n",
        "\n",
        "# Label the x-axis\n",
        "plt.xlabel(\"z-score\");"
      ]
    },
    {
      "cell_type": "markdown",
      "metadata": {
        "id": "IyCCUGNo08Wa"
      },
      "source": [
        "### What's the General Takeaway? \n",
        "\n",
        "Whenever you examine a histogram, you should start out by looking at the horizontal axis. On the horizontal axis of a standard normal curve, the values are standard units. For now, we can think of the normal curve as a smoothed outline of a histogram! Knowing this, there are a few properties that apply to this sort of curve; some are apparent by mere observation and others require a considerable amount of mathematics to establish:\n",
        "\n",
        "* **The total area under the curve is 1.** So you can think of it as a histogram drawn to the density scale.\n",
        "* **The curve is symmetric about 0.** So if a variable has this distribution, its mean and median are both 0.\n",
        "* **The points of inflection of the curve are at -1 and +1.**\n",
        "* **If a variable has this distribution, its standard deviation is 1.** The normal curve is one of the very few distributions that has an standard deviation so clearly identifiable on the histogram.\n",
        "\n",
        "---\n",
        "\n",
        "## The Practical Use of Z-Scores and P-Values\n",
        "\n",
        "Knowing all of this information about the standard curve, what does the area under the curve tell us about our data? Well, we can measure proportions of the total amount of our data! \n",
        "\n",
        "### Handy-Dandy Cheat Sheet for Z-Scores and P-Values\n",
        "\n",
        "Here's a cheat sheet of some approximate values that describe normal distributions:\n",
        "\n",
        "|  Fraction in range | z-score  |  p-value |\n",
        "| --- | --- | --- |\n",
        "| average ± 1 SD | 1   |0.68 |\n",
        "| average ± 2 SD | 2   |0.95 |\n",
        "| average ± 3 SD | 3   |0.997|\n",
        "\n",
        "But how did we get these values? Let's calculate them with code! \n",
        "\n",
        "### Validating the Values in the Z-Score/P-Value Cheat Sheet with Code! \n",
        "\n",
        "Let's find the area within **1 standard deviation of the mean** under the standard normal curve (area under the cruve between blue lines). This is also denoted as the area between `z = -1` and `z = 1`. The area is approximately `0.68`. This fraction is the probability or **two-tailed p-value** corresponding to a **`z-score = 1`**.\n",
        "\n",
        "<img alt=\"Normal Distribution bell curve with vertical lines at 1 standard deviation below and above the mean\" src=\"https://github.com/biom262/cmm262-2021/raw/main/module-2-statistics/img/day1_norm-dist-again.png\">\n",
        "\n",
        "Now, let's go through the different steps to calculating this value manually. \n",
        "\n",
        "1. **First, we'll calculate the lower and upper bounds of our different tails.** The lower bound is the mean minus one standard deviation, whereas the upper bound is the mean plus one standard deviation! \n",
        "2. **Next, we'll count the number of samples that are present within our bounds**. \n",
        "3. **Finally, we'll calculate the fraction of samples that are within our lower and upper bounds compared to the total number of samples**. "
      ]
    },
    {
      "cell_type": "code",
      "execution_count": null,
      "metadata": {
        "id": "hND56OLy08Wa"
      },
      "outputs": [],
      "source": [
        "# Step 1: Calculate the lower and upper bounds of our distribution (we'll be looking at the area one standard deviation of the mean)\n",
        "lower_bound = normal_data.mean() - normal_data.std() # mean minus 1 standard deviation\n",
        "upper_bound = normal_data.mean() + normal_data.std() # mean plus 1 standard deviation\n",
        "\n",
        "print(f\"The calculated lower bound is: {lower_bound}\")\n",
        "print(f\"The calculated upper bound is: {upper_bound}\")"
      ]
    },
    {
      "cell_type": "code",
      "execution_count": null,
      "metadata": {
        "id": "QwGYJZRv08Wb"
      },
      "outputs": [],
      "source": [
        "# Step 2a: Determine the points that are above our lower bound and points that are below our upper bound\n",
        "points_above_lower_bound = normal_data > lower_bound\n",
        "points_below_upper_bound = normal_data < upper_bound\n",
        "\n",
        "print(f\"There were {sum(points_above_lower_bound)} data points above our lower bound\")\n",
        "print(f\"There were {sum(points_below_upper_bound)} data points below our upper bound\")"
      ]
    },
    {
      "cell_type": "code",
      "execution_count": null,
      "metadata": {
        "id": "xsnG8epg08Wb"
      },
      "outputs": [],
      "source": [
        "# Step 2b: Calculate the total number of points that appear within our lower and upper bounds! \n",
        "points_within_bounds = points_above_lower_bound & points_below_upper_bound\n",
        "total_within_bounds  = sum(points_within_bounds) \n",
        "\n",
        "print(f\"There were {total_within_bounds} data points within both of our lower and upper bounds\")"
      ]
    },
    {
      "cell_type": "code",
      "execution_count": null,
      "metadata": {
        "id": "teQxMdrG08Wb"
      },
      "outputs": [],
      "source": [
        "# Step 3: Finally, calculate the fraction of samples that are within our bounds by dividing it by the total number of samples\n",
        "total_number_of_data_points = len(normal_data)\n",
        "fraction_samples_within_bounds = total_within_bounds / total_number_of_data_points\n",
        "\n",
        "print(f\"{fraction_samples_within_bounds} of our data points are within our bounds\")"
      ]
    },
    {
      "cell_type": "markdown",
      "metadata": {
        "id": "3Tfuf0oH08Wb"
      },
      "source": [
        "From those calculations, we can see that our fraction is approximately `0.68`, corresponding to the P-value from our cheat sheet! \n",
        "\n",
        "However, it's kind of tedious to calculate this manually every time we want to calculate a P-value. **Luckily, there are packages in Python that can perform these calcualtions for us!**"
      ]
    },
    {
      "cell_type": "markdown",
      "metadata": {
        "id": "Fg5kNNRw08Wb"
      },
      "source": [
        "### Calculating P-Values with the `stats` Submodule from `scipy` \n",
        "\n",
        "That was starting to get a little complicated. Luckily, the `scikit-learn` Python package includes methods to estimate P-values easily!"
      ]
    },
    {
      "cell_type": "code",
      "execution_count": null,
      "metadata": {
        "id": "TWC7lsJV08Wb"
      },
      "outputs": [],
      "source": [
        "from scipy import stats # start out by importing the package we need \n",
        "\n",
        "# Calculate the areas left of z=1 and z=-1 \n",
        "area_left_z_plus_1 = stats.norm.cdf(1)\n",
        "area_left_z_minus_1 = stats.norm.cdf(-1)\n",
        "\n",
        "# Determine the area between z=1 and z=-1\n",
        "area_left_z_plus_1 - area_left_z_minus_1"
      ]
    },
    {
      "cell_type": "markdown",
      "metadata": {
        "id": "Rxuww3nW08Wb"
      },
      "source": [
        "---\n",
        "\n",
        "## Applying Descriptive Statistics, Z-Scores, and P-Values to the Palmer Penguins Dataset\n",
        "\n",
        "Now that we have somewhat of a handle on the theory, let's apply the concepts that we've learned to the Palmer Penguins dataset! \n",
        "\n",
        "As we saw earlier, none of the variables that we studied were normally distributed. But for the sake of this exercise, **let's assume that `bill_length_mm` is approximately normal for the sake of this exercise**! Say we want to ask, what's the probability that a randomly-selected penguin's bill length is longer than 55 mm?\n",
        "\n",
        "We can do this by calculating the Z-score for `bill_length_mm=55`! "
      ]
    },
    {
      "cell_type": "code",
      "execution_count": null,
      "metadata": {
        "id": "lpLu70rT08Wb"
      },
      "outputs": [],
      "source": [
        "# Let's start out by reviewing what the distribution of bill length looks like again \n",
        "# using the seaborn function sns.histplot()... \n",
        "sns.histplot(penguins[\"bill_length_mm\"])"
      ]
    },
    {
      "cell_type": "markdown",
      "metadata": {
        "id": "thN9exOr08Wc"
      },
      "source": [
        "### Using the `stats.zmap()` Function to Calculate a Z-Score\n",
        "\n",
        "We can use the function `stats.zmap()` from the `scipy` package to use our own sampling of penguin bill lengths as a reference to calculate a z-score for an arbitrary value. This function performs the following steps:\n",
        "\n",
        "1. First, the function starts by calculating the mean and standard deviation for the array of data points you provide \n",
        "2. Next, for your samples of interest, the function calculates the number of standard deviations from the mean -- a.k.a. the Z-scores!\n",
        "3. Finally, the function returns these Z-scores back to you! \n",
        "\n",
        "<div class=\"alert alert-block alert-info\">\n",
        "    <p>If you ever are confused about what a function does, you can use the following notation to bring up the documentation in a Jupyter Notebook: <code>?FUNCTION</code>.<br>(e.g., we can type in <code>?stats.zmap()</code> into a code cell and then run it to view the documentation for this function!)</p>\n",
        "</div>"
      ]
    },
    {
      "cell_type": "code",
      "execution_count": null,
      "metadata": {
        "id": "yvnK4GTd08Wc"
      },
      "outputs": [],
      "source": [
        "# Let's view the documentation for the stats.zmap() function!\n",
        "?stats.zmap"
      ]
    },
    {
      "cell_type": "markdown",
      "metadata": {
        "id": "AQh2Sr9v08Wc"
      },
      "source": [
        "### Using the `stats.zmap()` and `stats.norm.cdf()` Functions to Calculate the Probability that a Randomly-Selected Penguin's Bill Length is Longer than 55 mm\n",
        "\n",
        "Now that we've figured out how to use the `stats.zmap()` function, let's use it to solve our question about the bill lengths of penguins! "
      ]
    },
    {
      "cell_type": "code",
      "execution_count": null,
      "metadata": {
        "id": "uCfsetGV08Wc"
      },
      "outputs": [],
      "source": [
        "# The first parameter is for samples you want to calculate the scores for\n",
        "# The second parameter is the reference input to calculate sample z-scores\n",
        "my_zscore = stats.zmap(55, penguins[\"bill_length_mm\"])  \n",
        "\n",
        "print(f\"Our Z-score is: {my_zscore}\")"
      ]
    },
    {
      "cell_type": "markdown",
      "metadata": {
        "id": "rKv7NuEB08Wc"
      },
      "source": [
        "Finally, we can convert this Z-score to a **one-tailed P-value** with the `stats.norm.cdf()` function! \n",
        "\n",
        "<div class=\"alert alert-block alert-info\">\n",
        "    <p>Remember, we are asking for the  probability that a randomly selected penguin's bill length is <strong>longer</strong> than 55 mm. The <code>stats.norm.cdf()</code> function always gives the area under the curve to the <code>left</code> of the score.</p>\n",
        "</div>"
      ]
    },
    {
      "cell_type": "code",
      "execution_count": null,
      "metadata": {
        "id": "-1t27tsH08Wc"
      },
      "outputs": [],
      "source": [
        "p_value = 1 - stats.norm.cdf(my_zscore)\n",
        "print(f\"Our calculated P-value is: {p_value}\")"
      ]
    }
  ],
  "metadata": {
    "kernelspec": {
      "display_name": "Python 3 (ipykernel)",
      "language": "python",
      "name": "python3"
    },
    "language_info": {
      "codemirror_mode": {
        "name": "ipython",
        "version": 3
      },
      "file_extension": ".py",
      "mimetype": "text/x-python",
      "name": "python",
      "nbconvert_exporter": "python",
      "pygments_lexer": "ipython3",
      "version": "3.9.12"
    },
    "toc-autonumbering": true,
    "colab": {
      "name": "1_Penguins_and_Descriptive_Statistics.ipynb",
      "provenance": [],
      "include_colab_link": true
    }
  },
  "nbformat": 4,
  "nbformat_minor": 0
}